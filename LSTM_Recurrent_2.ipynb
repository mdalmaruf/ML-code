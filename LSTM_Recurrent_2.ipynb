{
 "cells": [
  {
   "cell_type": "code",
   "execution_count": 31,
   "metadata": {
    "collapsed": true
   },
   "outputs": [],
   "source": [
    "import numpy as np\n",
    "np.random.seed(42)\n",
    "import tensorflow as tf\n",
    "tf.set_random_seed(42)\n",
    "from keras.models import Sequential, load_model\n",
    "from keras.layers import Dense, Activation\n",
    "from keras.layers import LSTM, Dropout\n",
    "from keras.layers import TimeDistributed\n",
    "from keras.layers.core import Dense, Activation, Dropout, RepeatVector\n",
    "from keras.optimizers import RMSprop\n",
    "import matplotlib.pyplot as plt\n",
    "import pickle\n",
    "import sys\n",
    "import heapq\n",
    "import seaborn as sns\n",
    "from pylab import rcParams\n",
    "\n",
    "%matplotlib inline\n",
    "sns.set(style='whitegrid', palette='muted', font_scale=1.5)\n",
    "\n",
    "rcParams['figure.figsize'] = 12, 5"
   ]
  },
  {
   "cell_type": "markdown",
   "metadata": {},
   "source": [
    "# Loading the data"
   ]
  },
  {
   "cell_type": "code",
   "execution_count": 32,
   "metadata": {},
   "outputs": [
    {
     "name": "stdout",
     "output_type": "stream",
     "text": [
      "corpus length: 11295\n"
     ]
    }
   ],
   "source": [
    "path = 'wonderland.txt'\n",
    "text = open(path, encoding=\"utf8\").read().lower()\n",
    "print('corpus length:', len(text))"
   ]
  },
  {
   "cell_type": "markdown",
   "metadata": {},
   "source": [
    "# Preprocessing"
   ]
  },
  {
   "cell_type": "code",
   "execution_count": 37,
   "metadata": {},
   "outputs": [
    {
     "name": "stdout",
     "output_type": "stream",
     "text": [
      "unique chars: 46\n"
     ]
    }
   ],
   "source": [
    "chars = sorted(list(set(text)))\n",
    "char_indices = dict((c, i) for i, c in enumerate(chars))\n",
    "indices_char = dict((i, c) for i, c in enumerate(chars))\n",
    "\n",
    "print(f'unique chars: {len(chars)}')"
   ]
  },
  {
   "cell_type": "code",
   "execution_count": 38,
   "metadata": {},
   "outputs": [
    {
     "name": "stdout",
     "output_type": "stream",
     "text": [
      "num training examples: 5628\n"
     ]
    }
   ],
   "source": [
    "SEQUENCE_LENGTH = 40\n",
    "step = 2\n",
    "sentences = []\n",
    "next_chars = []\n",
    "for i in range(0, len(text) - SEQUENCE_LENGTH, step):\n",
    "    sentences.append(text[i: i + SEQUENCE_LENGTH])\n",
    "    next_chars.append(text[i + SEQUENCE_LENGTH])\n",
    "print(f'num training examples: {len(sentences)}')"
   ]
  },
  {
   "cell_type": "markdown",
   "metadata": {},
   "source": [
    "# generating our features and labels"
   ]
  },
  {
   "cell_type": "code",
   "execution_count": 39,
   "metadata": {
    "collapsed": true
   },
   "outputs": [],
   "source": [
    "X = np.zeros((len(sentences), SEQUENCE_LENGTH, len(chars)), dtype=np.bool)\n",
    "y = np.zeros((len(sentences), len(chars)), dtype=np.bool)\n",
    "for i, sentence in enumerate(sentences):\n",
    "    for t, char in enumerate(sentence):\n",
    "        X[i, t, char_indices[char]] = 1\n",
    "    y[i, char_indices[next_chars[i]]] = 1"
   ]
  },
  {
   "cell_type": "code",
   "execution_count": 40,
   "metadata": {},
   "outputs": [
    {
     "data": {
      "text/plain": [
       "'s saved one and two at a time by bulldoz'"
      ]
     },
     "execution_count": 40,
     "metadata": {},
     "output_type": "execute_result"
    }
   ],
   "source": [
    "sentences[100]"
   ]
  },
  {
   "cell_type": "markdown",
   "metadata": {},
   "source": [
    "# The character that needs to be predicted for it is:"
   ]
  },
  {
   "cell_type": "code",
   "execution_count": 41,
   "metadata": {},
   "outputs": [
    {
     "data": {
      "text/plain": [
       "'i'"
      ]
     },
     "execution_count": 41,
     "metadata": {},
     "output_type": "execute_result"
    }
   ],
   "source": [
    "next_chars[100]"
   ]
  },
  {
   "cell_type": "code",
   "execution_count": 42,
   "metadata": {},
   "outputs": [
    {
     "name": "stdout",
     "output_type": "stream",
     "text": [
      "[False False False False False False False False False False False False\n",
      " False False False False False False False False False False False False\n",
      " False False False False False False False False False False False False\n",
      " False False False False False False False False False  True]\n",
      "(5628, 40, 46)\n",
      "False\n",
      "(5628, 46)\n"
     ]
    }
   ],
   "source": [
    "print (X[0][0])\n",
    "print (X.shape)\n",
    "print (y[0][0])\n",
    "print (y.shape)\n"
   ]
  },
  {
   "cell_type": "markdown",
   "metadata": {},
   "source": [
    "# Building the model"
   ]
  },
  {
   "cell_type": "code",
   "execution_count": 43,
   "metadata": {
    "collapsed": true
   },
   "outputs": [],
   "source": [
    "model = Sequential()\n",
    "model.add(LSTM(128, input_shape=(SEQUENCE_LENGTH, len(chars))))\n",
    "model.add(Dense(len(chars)))\n",
    "model.add(Activation('softmax'))"
   ]
  },
  {
   "cell_type": "code",
   "execution_count": 44,
   "metadata": {},
   "outputs": [
    {
     "name": "stdout",
     "output_type": "stream",
     "text": [
      "Train on 5346 samples, validate on 282 samples\n",
      "Epoch 1/50\n",
      "5346/5346 [==============================] - 21s - loss: 3.1240 - acc: 0.1706 - val_loss: 2.8441 - val_acc: 0.1525\n",
      "Epoch 2/50\n",
      "5346/5346 [==============================] - 15s - loss: 2.7292 - acc: 0.2400 - val_loss: 2.5710 - val_acc: 0.2695\n",
      "Epoch 3/50\n",
      "5346/5346 [==============================] - 16s - loss: 2.4716 - acc: 0.3034 - val_loss: 2.4379 - val_acc: 0.2730\n",
      "Epoch 4/50\n",
      "5346/5346 [==============================] - 15s - loss: 2.3214 - acc: 0.3350 - val_loss: 2.3812 - val_acc: 0.2624\n",
      "Epoch 5/50\n",
      "5346/5346 [==============================] - 14s - loss: 2.2041 - acc: 0.3605 - val_loss: 2.2862 - val_acc: 0.2943\n",
      "Epoch 6/50\n",
      "5346/5346 [==============================] - 14s - loss: 2.0842 - acc: 0.3915 - val_loss: 2.2466 - val_acc: 0.3014\n",
      "Epoch 7/50\n",
      "5346/5346 [==============================] - 14s - loss: 1.9800 - acc: 0.4160 - val_loss: 2.2543 - val_acc: 0.3085\n",
      "Epoch 8/50\n",
      "5346/5346 [==============================] - 14s - loss: 1.8706 - acc: 0.4390 - val_loss: 2.3455 - val_acc: 0.3191\n",
      "Epoch 9/50\n",
      "5346/5346 [==============================] - 14s - loss: 1.7681 - acc: 0.4673 - val_loss: 2.2033 - val_acc: 0.3475\n",
      "Epoch 10/50\n",
      "5346/5346 [==============================] - 14s - loss: 1.6559 - acc: 0.5013 - val_loss: 2.3012 - val_acc: 0.3369\n",
      "Epoch 11/50\n",
      "5346/5346 [==============================] - 14s - loss: 1.5510 - acc: 0.5264 - val_loss: 2.3095 - val_acc: 0.3085\n",
      "Epoch 12/50\n",
      "5346/5346 [==============================] - 14s - loss: 1.4341 - acc: 0.5643 - val_loss: 2.3183 - val_acc: 0.3227\n",
      "Epoch 13/50\n",
      "5346/5346 [==============================] - 14s - loss: 1.3292 - acc: 0.5935 - val_loss: 2.4688 - val_acc: 0.3050\n",
      "Epoch 14/50\n",
      "5346/5346 [==============================] - 14s - loss: 1.2238 - acc: 0.6240 - val_loss: 2.5099 - val_acc: 0.3262\n",
      "Epoch 15/50\n",
      "5346/5346 [==============================] - 15s - loss: 1.1207 - acc: 0.6543 - val_loss: 2.5377 - val_acc: 0.3156\n",
      "Epoch 16/50\n",
      "5346/5346 [==============================] - 14s - loss: 1.0057 - acc: 0.7007 - val_loss: 2.6523 - val_acc: 0.3014\n",
      "Epoch 17/50\n",
      "5346/5346 [==============================] - 14s - loss: 0.9163 - acc: 0.7245 - val_loss: 2.6876 - val_acc: 0.3227\n",
      "Epoch 18/50\n",
      "5346/5346 [==============================] - 14s - loss: 0.8374 - acc: 0.7445 - val_loss: 2.8032 - val_acc: 0.3050\n",
      "Epoch 19/50\n",
      "5346/5346 [==============================] - 14s - loss: 0.7616 - acc: 0.7671 - val_loss: 2.8102 - val_acc: 0.2943\n",
      "Epoch 20/50\n",
      "5346/5346 [==============================] - 15s - loss: 0.6817 - acc: 0.7926 - val_loss: 2.9796 - val_acc: 0.2801\n",
      "Epoch 21/50\n",
      "5346/5346 [==============================] - 14s - loss: 0.6773 - acc: 0.8111 - val_loss: 3.1272 - val_acc: 0.3014\n",
      "Epoch 22/50\n",
      "5346/5346 [==============================] - 14s - loss: 1.1502 - acc: 0.8094 - val_loss: 3.6756 - val_acc: 0.2730\n",
      "Epoch 23/50\n",
      "5346/5346 [==============================] - 14s - loss: 1.3411 - acc: 0.8058 - val_loss: 3.7196 - val_acc: 0.2730\n",
      "Epoch 24/50\n",
      "5346/5346 [==============================] - 14s - loss: 4.8525 - acc: 0.6203 - val_loss: 8.1803 - val_acc: 0.1596\n",
      "Epoch 25/50\n",
      "5346/5346 [==============================] - 14s - loss: 7.4809 - acc: 0.4802 - val_loss: 8.4341 - val_acc: 0.1773\n",
      "Epoch 26/50\n",
      "5346/5346 [==============================] - 14s - loss: 7.3422 - acc: 0.4903 - val_loss: 8.7163 - val_acc: 0.1348\n",
      "Epoch 27/50\n",
      "5346/5346 [==============================] - 14s - loss: 7.0912 - acc: 0.5058 - val_loss: 4.4357 - val_acc: 0.2589\n",
      "Epoch 28/50\n",
      "5346/5346 [==============================] - 14s - loss: 1.5458 - acc: 0.7849 - val_loss: 3.9708 - val_acc: 0.2624\n",
      "Epoch 29/50\n",
      "5346/5346 [==============================] - 14s - loss: 1.0868 - acc: 0.8412 - val_loss: 4.0065 - val_acc: 0.2589\n",
      "Epoch 30/50\n",
      "5346/5346 [==============================] - 14s - loss: 1.0265 - acc: 0.8649 - val_loss: 4.1499 - val_acc: 0.2979\n",
      "Epoch 31/50\n",
      "5346/5346 [==============================] - 14s - loss: 1.6222 - acc: 0.8346 - val_loss: 4.9242 - val_acc: 0.2695\n",
      "Epoch 32/50\n",
      "5346/5346 [==============================] - 14s - loss: 1.4988 - acc: 0.8389 - val_loss: 4.3190 - val_acc: 0.2589\n",
      "Epoch 33/50\n",
      "5346/5346 [==============================] - 14s - loss: 0.9832 - acc: 0.8906 - val_loss: 4.7120 - val_acc: 0.2411\n",
      "Epoch 34/50\n",
      "5346/5346 [==============================] - 14s - loss: 0.9902 - acc: 0.8895 - val_loss: 4.2781 - val_acc: 0.2624\n",
      "Epoch 35/50\n",
      "5346/5346 [==============================] - 15s - loss: 0.9106 - acc: 0.9025 - val_loss: 4.4011 - val_acc: 0.2801\n",
      "Epoch 36/50\n",
      "5346/5346 [==============================] - 14s - loss: 0.9134 - acc: 0.8917 - val_loss: 4.4607 - val_acc: 0.2837\n",
      "Epoch 37/50\n",
      "5346/5346 [==============================] - 14s - loss: 0.8609 - acc: 0.8984 - val_loss: 4.5147 - val_acc: 0.2482\n",
      "Epoch 38/50\n",
      "5346/5346 [==============================] - 15s - loss: 0.8521 - acc: 0.9009 - val_loss: 4.3979 - val_acc: 0.2872\n",
      "Epoch 39/50\n",
      "5346/5346 [==============================] - 14s - loss: 0.8208 - acc: 0.9128 - val_loss: 4.6049 - val_acc: 0.2624\n",
      "Epoch 40/50\n",
      "5346/5346 [==============================] - 14s - loss: 0.8289 - acc: 0.9057 - val_loss: 4.7550 - val_acc: 0.2766\n",
      "Epoch 41/50\n",
      "5346/5346 [==============================] - 14s - loss: 0.8064 - acc: 0.9186 - val_loss: 4.6685 - val_acc: 0.2837\n",
      "Epoch 42/50\n",
      "5346/5346 [==============================] - 14s - loss: 0.7927 - acc: 0.9095 - val_loss: 4.7228 - val_acc: 0.2837\n",
      "Epoch 43/50\n",
      "5346/5346 [==============================] - 14s - loss: 0.7941 - acc: 0.9166 - val_loss: 4.8641 - val_acc: 0.2730\n",
      "Epoch 44/50\n",
      "5346/5346 [==============================] - 14s - loss: 0.7825 - acc: 0.9216 - val_loss: 4.8420 - val_acc: 0.2801\n",
      "Epoch 45/50\n",
      "5346/5346 [==============================] - 14s - loss: 0.4490 - acc: 0.9233 - val_loss: 4.4922 - val_acc: 0.3085\n",
      "Epoch 46/50\n",
      "5346/5346 [==============================] - 14s - loss: 0.2025 - acc: 0.9454 - val_loss: 4.2977 - val_acc: 0.3014\n",
      "Epoch 47/50\n",
      "5346/5346 [==============================] - 14s - loss: 0.1879 - acc: 0.9493 - val_loss: 4.2756 - val_acc: 0.2801\n",
      "Epoch 48/50\n",
      "5346/5346 [==============================] - 14s - loss: 0.1931 - acc: 0.9454 - val_loss: 4.3088 - val_acc: 0.2872\n",
      "Epoch 49/50\n",
      "5346/5346 [==============================] - 14s - loss: 0.3293 - acc: 0.9435 - val_loss: 4.8617 - val_acc: 0.2943\n",
      "Epoch 50/50\n",
      "5346/5346 [==============================] - 15s - loss: 0.7704 - acc: 0.9231 - val_loss: 4.7582 - val_acc: 0.2979\n"
     ]
    }
   ],
   "source": [
    "optimizer = RMSprop(lr=0.01)\n",
    "model.compile(loss='categorical_crossentropy', optimizer=optimizer, metrics=['accuracy'])\n",
    "history = model.fit(X, y, validation_split=0.05, batch_size=128, epochs=50, shuffle=True).history"
   ]
  },
  {
   "cell_type": "markdown",
   "metadata": {},
   "source": [
    "# Saving Model"
   ]
  },
  {
   "cell_type": "code",
   "execution_count": 45,
   "metadata": {
    "collapsed": true
   },
   "outputs": [],
   "source": [
    "model.save('keras_model.h5')\n",
    "pickle.dump(history, open(\"history.p\", \"wb\"))"
   ]
  },
  {
   "cell_type": "code",
   "execution_count": 46,
   "metadata": {
    "collapsed": true
   },
   "outputs": [],
   "source": [
    "model = load_model('keras_model.h5')\n",
    "history = pickle.load(open(\"history.p\", \"rb\"))"
   ]
  },
  {
   "cell_type": "markdown",
   "metadata": {},
   "source": [
    "# Evaluatplt.plot(history['acc'])\n"
   ]
  },
  {
   "cell_type": "code",
   "execution_count": 1,
   "metadata": {},
   "outputs": [
    {
     "ename": "NameError",
     "evalue": "name 'plt' is not defined",
     "output_type": "error",
     "traceback": [
      "\u001b[1;31m---------------------------------------------------------------------------\u001b[0m",
      "\u001b[1;31mNameError\u001b[0m                                 Traceback (most recent call last)",
      "\u001b[1;32m<ipython-input-1-3918201b9277>\u001b[0m in \u001b[0;36m<module>\u001b[1;34m()\u001b[0m\n\u001b[1;32m----> 1\u001b[1;33m \u001b[0mplt\u001b[0m\u001b[1;33m.\u001b[0m\u001b[0mplot\u001b[0m\u001b[1;33m(\u001b[0m\u001b[0mhistory\u001b[0m\u001b[1;33m[\u001b[0m\u001b[1;34m'val_acc'\u001b[0m\u001b[1;33m]\u001b[0m\u001b[1;33m)\u001b[0m\u001b[1;33m\u001b[0m\u001b[0m\n\u001b[0m\u001b[0;32m      2\u001b[0m \u001b[0mplt\u001b[0m\u001b[1;33m.\u001b[0m\u001b[0mtitle\u001b[0m\u001b[1;33m(\u001b[0m\u001b[1;34m'model accuracy'\u001b[0m\u001b[1;33m)\u001b[0m\u001b[1;33m\u001b[0m\u001b[0m\n\u001b[0;32m      3\u001b[0m \u001b[0mplt\u001b[0m\u001b[1;33m.\u001b[0m\u001b[0mylabel\u001b[0m\u001b[1;33m(\u001b[0m\u001b[1;34m'accuracy'\u001b[0m\u001b[1;33m)\u001b[0m\u001b[1;33m\u001b[0m\u001b[0m\n\u001b[0;32m      4\u001b[0m \u001b[0mplt\u001b[0m\u001b[1;33m.\u001b[0m\u001b[0mxlabel\u001b[0m\u001b[1;33m(\u001b[0m\u001b[1;34m'epoch'\u001b[0m\u001b[1;33m)\u001b[0m\u001b[1;33m\u001b[0m\u001b[0m\n\u001b[0;32m      5\u001b[0m \u001b[0mplt\u001b[0m\u001b[1;33m.\u001b[0m\u001b[0mlegend\u001b[0m\u001b[1;33m(\u001b[0m\u001b[1;33m[\u001b[0m\u001b[1;34m'train'\u001b[0m\u001b[1;33m,\u001b[0m \u001b[1;34m'test'\u001b[0m\u001b[1;33m]\u001b[0m\u001b[1;33m,\u001b[0m \u001b[0mloc\u001b[0m\u001b[1;33m=\u001b[0m\u001b[1;34m'upper left'\u001b[0m\u001b[1;33m)\u001b[0m\u001b[1;33m;\u001b[0m\u001b[1;33m\u001b[0m\u001b[0m\n",
      "\u001b[1;31mNameError\u001b[0m: name 'plt' is not defined"
     ]
    }
   ],
   "source": [
    "plt.plot(history['val_acc'])\n",
    "plt.title('model accuracy')\n",
    "plt.ylabel('accuracy')\n",
    "plt.xlabel('epoch')\n",
    "plt.legend(['train', 'test'], loc='upper left');"
   ]
  },
  {
   "cell_type": "code",
   "execution_count": 48,
   "metadata": {},
   "outputs": [
    {
     "data": {
      "image/png": "[encoded data removed]",
      "text/plain": [
       "<matplotlib.figure.Figure at 0x22ff896c240>"
      ]
     },
     "metadata": {},
     "output_type": "display_data"
    }
   ],
   "source": [
    "plt.plot(history['loss'])\n",
    "plt.plot(history['val_loss'])\n",
    "plt.title('model loss')\n",
    "plt.ylabel('loss')\n",
    "plt.xlabel('epoch')\n",
    "plt.legend(['train', 'test'], loc='upper left');"
   ]
  },
  {
   "cell_type": "markdown",
   "metadata": {},
   "source": [
    "# Test"
   ]
  },
  {
   "cell_type": "code",
   "execution_count": 49,
   "metadata": {
    "collapsed": true
   },
   "outputs": [],
   "source": [
    "def prepare_input(text):\n",
    "    x = np.zeros((1, SEQUENCE_LENGTH, len(chars)))\n",
    "    for t, char in enumerate(text):\n",
    "        x[0, t, char_indices[char]] = 1.\n",
    "        \n",
    "    return x"
   ]
  },
  {
   "cell_type": "code",
   "execution_count": 50,
   "metadata": {},
   "outputs": [
    {
     "data": {
      "text/plain": [
       "array([[[ 0.,  0.,  0., ...,  0.,  0.,  0.],\n",
       "        [ 0.,  0.,  0., ...,  0.,  0.,  0.],\n",
       "        [ 0.,  0.,  0., ...,  0.,  0.,  0.],\n",
       "        ..., \n",
       "        [ 0.,  0.,  0., ...,  0.,  0.,  0.],\n",
       "        [ 0.,  0.,  0., ...,  0.,  0.,  0.],\n",
       "        [ 0.,  0.,  0., ...,  0.,  0.,  0.]]])"
      ]
     },
     "execution_count": 50,
     "metadata": {},
     "output_type": "execute_result"
    }
   ],
   "source": [
    "prepare_input(\"This is an example of input for our LSTM\".lower())"
   ]
  },
  {
   "cell_type": "code",
   "execution_count": 51,
   "metadata": {
    "collapsed": true
   },
   "outputs": [],
   "source": [
    "def sample(preds, top_n=3):\n",
    "    preds = np.asarray(preds).astype('float64')\n",
    "    preds = np.log(preds)\n",
    "    exp_preds = np.exp(preds)\n",
    "    preds = exp_preds / np.sum(exp_preds)\n",
    "    \n",
    "    return heapq.nlargest(top_n, range(len(preds)), preds.take)"
   ]
  },
  {
   "cell_type": "code",
   "execution_count": null,
   "metadata": {
    "collapsed": true
   },
   "outputs": [],
   "source": []
  },
  {
   "cell_type": "code",
   "execution_count": 52,
   "metadata": {
    "collapsed": true
   },
   "outputs": [],
   "source": [
    "def predict_completion(text):\n",
    "    original_text = text\n",
    "    generated = text\n",
    "    completion = ''\n",
    "    while True:\n",
    "        x = prepare_input(text)\n",
    "        preds = model.predict(x, verbose=0)[0]\n",
    "        next_index = sample(preds, top_n=1)[0]\n",
    "        next_char = indices_char[next_index]\n",
    "        text = text[1:] + next_char\n",
    "        completion += next_char\n",
    "        \n",
    "        if len(original_text + completion) + 2 > len(original_text) and next_char == ' ':\n",
    "            return completion"
   ]
  },
  {
   "cell_type": "markdown",
   "metadata": {},
   "source": [
    "# predict multiple completions:"
   ]
  },
  {
   "cell_type": "code",
   "execution_count": 53,
   "metadata": {
    "collapsed": true
   },
   "outputs": [],
   "source": [
    "def predict_completions(text, n=3):\n",
    "    x = prepare_input(text)\n",
    "    preds = model.predict(x, verbose=0)[0]\n",
    "    next_indices = sample(preds, n)\n",
    "    return [indices_char[idx] + predict_completion(text[1:] + indices_char[idx]) for idx in next_indices]"
   ]
  },
  {
   "cell_type": "code",
   "execution_count": 54,
   "metadata": {
    "collapsed": true
   },
   "outputs": [],
   "source": [
    "quotes = [\n",
    "    \"So now Della's beautiful hair fell about her rippling and shining\",\n",
    "    \"When Della reached home her intoxication gave way a little to.\",\n",
    "    \"White fingers and nimble tore at the string and paper.\",\n",
    "    \"Within forty minutes her head was covered with tiny\",\n",
    "    \"She had a habit of saying a little silent prayer\"\n",
    "]"
   ]
  },
  {
   "cell_type": "code",
   "execution_count": 55,
   "metadata": {},
   "outputs": [
    {
     "name": "stdout",
     "output_type": "stream",
     "text": [
      "so now della's beautiful hair fell about\n",
      "[' the ', 'ou ', '. ', 's ', '\\nthe ']\n",
      "\n",
      "when della reached home her intoxication\n",
      "['. ', '-was ', ' geve ', ', ', '\\nwas ']\n",
      "\n",
      "white fingers and nimble tore at the str\n",
      "['entir ', 'ops ', 'ing ', 'ape ', 'sen ']\n",
      "\n",
      "within forty minutes her head was covere\n",
      "['d ', ' the ', 'r ', 'ntired ', '. ']\n",
      "\n",
      "she had a habit of saying a little silen\n",
      "['glap ', \"'m \", 't ', 'ed ', ', ']\n",
      "\n"
     ]
    }
   ],
   "source": [
    "for q in quotes:\n",
    "    seq = q[:40].lower()\n",
    "    print(seq)\n",
    "    print(predict_completions(seq, 5))\n",
    "    print()"
   ]
  },
  {
   "cell_type": "code",
   "execution_count": null,
   "metadata": {
    "collapsed": true
   },
   "outputs": [],
   "source": []
  }
 ],
 "metadata": {
  "kernelspec": {
   "display_name": "Python 3",
   "language": "python",
   "name": "python3"
  },
  "language_info": {
   "codemirror_mode": {
    "name": "ipython",
    "version": 3
   },
   "file_extension": ".py",
   "mimetype": "text/x-python",
   "name": "python",
   "nbconvert_exporter": "python",
   "pygments_lexer": "ipython3",
   "version": "3.6.1"
  }
 },
 "nbformat": 4,
 "nbformat_minor": 2
}
