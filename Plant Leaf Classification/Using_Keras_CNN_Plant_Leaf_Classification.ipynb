{
 "cells": [
  {
   "cell_type": "markdown",
   "metadata": {},
   "source": [
    "# Importing standard libraries"
   ]
  },
  {
   "cell_type": "code",
   "execution_count": 2,
   "metadata": {},
   "outputs": [
    {
     "name": "stdout",
     "output_type": "stream",
     "text": [
      "Populating the interactive namespace from numpy and matplotlib\n"
     ]
    }
   ],
   "source": [
    "%pylab inline\n",
    "import numpy as np\n",
    "np.random.seed(2016)\n",
    "import pandas as pd\n",
    "import seaborn as sns\n",
    "import sklearn\n",
    "import matplotlib.pyplot as plt\n",
    "%matplotlib inline\n",
    "%config InlineBackend.figure_format = 'png'\n",
    "import sys, os"
   ]
  },
  {
   "cell_type": "markdown",
   "metadata": {},
   "source": [
    "# Importing sklearn libraries"
   ]
  },
  {
   "cell_type": "code",
   "execution_count": 4,
   "metadata": {},
   "outputs": [
    {
     "name": "stderr",
     "output_type": "stream",
     "text": [
      "C:\\Users\\100641313\\AppData\\Local\\Continuum\\Anaconda3\\lib\\site-packages\\sklearn\\cross_validation.py:44: DeprecationWarning: This module was deprecated in version 0.18 in favor of the model_selection module into which all the refactored classes and functions are moved. Also note that the interface of the new CV iterators are different from that of this module. This module will be removed in 0.20.\n",
      "  \"This module will be removed in 0.20.\", DeprecationWarning)\n"
     ]
    }
   ],
   "source": [
    "from sklearn.preprocessing import StandardScaler\n",
    "from sklearn.cross_validation import train_test_split\n",
    "from sklearn.preprocessing import LabelEncoder\n",
    "from sklearn.model_selection import StratifiedShuffleSplit\n",
    "from sklearn import preprocessing"
   ]
  },
  {
   "cell_type": "markdown",
   "metadata": {},
   "source": [
    "# Tensorflow libraries"
   ]
  },
  {
   "cell_type": "code",
   "execution_count": 5,
   "metadata": {
    "collapsed": true
   },
   "outputs": [],
   "source": [
    "import tensorflow as tf"
   ]
  },
  {
   "cell_type": "markdown",
   "metadata": {},
   "source": [
    "# Keras Libraries for Neural Networks"
   ]
  },
  {
   "cell_type": "code",
   "execution_count": 6,
   "metadata": {},
   "outputs": [
    {
     "name": "stderr",
     "output_type": "stream",
     "text": [
      "Using TensorFlow backend.\n"
     ]
    }
   ],
   "source": [
    "from keras.models import Sequential\n",
    "from keras.layers import Dense,Dropout,Activation\n",
    "from keras.utils.np_utils import to_categorical\n",
    "from keras.preprocessing.image import img_to_array, load_img\n",
    "from keras.preprocessing.image import ImageDataGenerator, NumpyArrayIterator, array_to_img\n",
    "split_random_state = 7\n",
    "split = .8"
   ]
  },
  {
   "cell_type": "markdown",
   "metadata": {},
   "source": [
    "# Play with Kaggle Dataset"
   ]
  },
  {
   "cell_type": "code",
   "execution_count": 7,
   "metadata": {},
   "outputs": [
    {
     "data": {
      "text/html": [
       "<div>\n",
       "<style>\n",
       "    .dataframe thead tr:only-child th {\n",
       "        text-align: right;\n",
       "    }\n",
       "\n",
       "    .dataframe thead th {\n",
       "        text-align: left;\n",
       "    }\n",
       "\n",
       "    .dataframe tbody tr th {\n",
       "        vertical-align: top;\n",
       "    }\n",
       "</style>\n",
       "<table border=\"1\" class=\"dataframe\">\n",
       "  <thead>\n",
       "    <tr style=\"text-align: right;\">\n",
       "      <th></th>\n",
       "      <th>id</th>\n",
       "      <th>margin1</th>\n",
       "      <th>margin2</th>\n",
       "      <th>margin3</th>\n",
       "      <th>margin4</th>\n",
       "      <th>margin5</th>\n",
       "      <th>margin6</th>\n",
       "      <th>margin7</th>\n",
       "      <th>margin8</th>\n",
       "      <th>margin9</th>\n",
       "      <th>...</th>\n",
       "      <th>texture55</th>\n",
       "      <th>texture56</th>\n",
       "      <th>texture57</th>\n",
       "      <th>texture58</th>\n",
       "      <th>texture59</th>\n",
       "      <th>texture60</th>\n",
       "      <th>texture61</th>\n",
       "      <th>texture62</th>\n",
       "      <th>texture63</th>\n",
       "      <th>texture64</th>\n",
       "    </tr>\n",
       "  </thead>\n",
       "  <tbody>\n",
       "    <tr>\n",
       "      <th>count</th>\n",
       "      <td>594.000000</td>\n",
       "      <td>594.000000</td>\n",
       "      <td>594.000000</td>\n",
       "      <td>594.000000</td>\n",
       "      <td>594.000000</td>\n",
       "      <td>594.000000</td>\n",
       "      <td>594.000000</td>\n",
       "      <td>594.000000</td>\n",
       "      <td>594.000000</td>\n",
       "      <td>594.000000</td>\n",
       "      <td>...</td>\n",
       "      <td>594.000000</td>\n",
       "      <td>594.000000</td>\n",
       "      <td>594.000000</td>\n",
       "      <td>594.000000</td>\n",
       "      <td>594.000000</td>\n",
       "      <td>594.000000</td>\n",
       "      <td>594.000000</td>\n",
       "      <td>594.000000</td>\n",
       "      <td>594.000000</td>\n",
       "      <td>594.000000</td>\n",
       "    </tr>\n",
       "    <tr>\n",
       "      <th>mean</th>\n",
       "      <td>780.673401</td>\n",
       "      <td>0.017562</td>\n",
       "      <td>0.028425</td>\n",
       "      <td>0.031858</td>\n",
       "      <td>0.022556</td>\n",
       "      <td>0.014527</td>\n",
       "      <td>0.037497</td>\n",
       "      <td>0.019222</td>\n",
       "      <td>0.001085</td>\n",
       "      <td>0.007092</td>\n",
       "      <td>...</td>\n",
       "      <td>0.035291</td>\n",
       "      <td>0.005923</td>\n",
       "      <td>0.015033</td>\n",
       "      <td>0.011762</td>\n",
       "      <td>0.015881</td>\n",
       "      <td>0.011217</td>\n",
       "      <td>0.002617</td>\n",
       "      <td>0.019975</td>\n",
       "      <td>0.009389</td>\n",
       "      <td>0.020970</td>\n",
       "    </tr>\n",
       "    <tr>\n",
       "      <th>std</th>\n",
       "      <td>465.646977</td>\n",
       "      <td>0.019585</td>\n",
       "      <td>0.038351</td>\n",
       "      <td>0.025719</td>\n",
       "      <td>0.028797</td>\n",
       "      <td>0.018029</td>\n",
       "      <td>0.051372</td>\n",
       "      <td>0.017122</td>\n",
       "      <td>0.002697</td>\n",
       "      <td>0.009515</td>\n",
       "      <td>...</td>\n",
       "      <td>0.064482</td>\n",
       "      <td>0.026934</td>\n",
       "      <td>0.022318</td>\n",
       "      <td>0.024771</td>\n",
       "      <td>0.014898</td>\n",
       "      <td>0.052530</td>\n",
       "      <td>0.011204</td>\n",
       "      <td>0.034704</td>\n",
       "      <td>0.013457</td>\n",
       "      <td>0.023407</td>\n",
       "    </tr>\n",
       "    <tr>\n",
       "      <th>min</th>\n",
       "      <td>4.000000</td>\n",
       "      <td>0.000000</td>\n",
       "      <td>0.000000</td>\n",
       "      <td>0.000000</td>\n",
       "      <td>0.000000</td>\n",
       "      <td>0.000000</td>\n",
       "      <td>0.000000</td>\n",
       "      <td>0.000000</td>\n",
       "      <td>0.000000</td>\n",
       "      <td>0.000000</td>\n",
       "      <td>...</td>\n",
       "      <td>0.000000</td>\n",
       "      <td>0.000000</td>\n",
       "      <td>0.000000</td>\n",
       "      <td>0.000000</td>\n",
       "      <td>0.000000</td>\n",
       "      <td>0.000000</td>\n",
       "      <td>0.000000</td>\n",
       "      <td>0.000000</td>\n",
       "      <td>0.000000</td>\n",
       "      <td>0.000000</td>\n",
       "    </tr>\n",
       "    <tr>\n",
       "      <th>25%</th>\n",
       "      <td>368.500000</td>\n",
       "      <td>0.001953</td>\n",
       "      <td>0.001953</td>\n",
       "      <td>0.013672</td>\n",
       "      <td>0.005859</td>\n",
       "      <td>0.001953</td>\n",
       "      <td>0.000000</td>\n",
       "      <td>0.005859</td>\n",
       "      <td>0.000000</td>\n",
       "      <td>0.001953</td>\n",
       "      <td>...</td>\n",
       "      <td>0.000000</td>\n",
       "      <td>0.000000</td>\n",
       "      <td>0.000977</td>\n",
       "      <td>0.000000</td>\n",
       "      <td>0.004883</td>\n",
       "      <td>0.000000</td>\n",
       "      <td>0.000000</td>\n",
       "      <td>0.000000</td>\n",
       "      <td>0.000000</td>\n",
       "      <td>0.000977</td>\n",
       "    </tr>\n",
       "    <tr>\n",
       "      <th>50%</th>\n",
       "      <td>774.000000</td>\n",
       "      <td>0.009766</td>\n",
       "      <td>0.010743</td>\n",
       "      <td>0.023438</td>\n",
       "      <td>0.013672</td>\n",
       "      <td>0.007812</td>\n",
       "      <td>0.013672</td>\n",
       "      <td>0.015625</td>\n",
       "      <td>0.000000</td>\n",
       "      <td>0.005859</td>\n",
       "      <td>...</td>\n",
       "      <td>0.003906</td>\n",
       "      <td>0.000000</td>\n",
       "      <td>0.005859</td>\n",
       "      <td>0.001953</td>\n",
       "      <td>0.012695</td>\n",
       "      <td>0.000000</td>\n",
       "      <td>0.000000</td>\n",
       "      <td>0.003418</td>\n",
       "      <td>0.002930</td>\n",
       "      <td>0.013184</td>\n",
       "    </tr>\n",
       "    <tr>\n",
       "      <th>75%</th>\n",
       "      <td>1184.500000</td>\n",
       "      <td>0.028809</td>\n",
       "      <td>0.041016</td>\n",
       "      <td>0.042969</td>\n",
       "      <td>0.027344</td>\n",
       "      <td>0.019531</td>\n",
       "      <td>0.056641</td>\n",
       "      <td>0.029297</td>\n",
       "      <td>0.000000</td>\n",
       "      <td>0.007812</td>\n",
       "      <td>...</td>\n",
       "      <td>0.038086</td>\n",
       "      <td>0.000000</td>\n",
       "      <td>0.019531</td>\n",
       "      <td>0.010498</td>\n",
       "      <td>0.022461</td>\n",
       "      <td>0.000000</td>\n",
       "      <td>0.000000</td>\n",
       "      <td>0.022461</td>\n",
       "      <td>0.014648</td>\n",
       "      <td>0.032227</td>\n",
       "    </tr>\n",
       "    <tr>\n",
       "      <th>max</th>\n",
       "      <td>1583.000000</td>\n",
       "      <td>0.085938</td>\n",
       "      <td>0.189450</td>\n",
       "      <td>0.167970</td>\n",
       "      <td>0.164060</td>\n",
       "      <td>0.093750</td>\n",
       "      <td>0.271480</td>\n",
       "      <td>0.087891</td>\n",
       "      <td>0.021484</td>\n",
       "      <td>0.083984</td>\n",
       "      <td>...</td>\n",
       "      <td>0.353520</td>\n",
       "      <td>0.441410</td>\n",
       "      <td>0.153320</td>\n",
       "      <td>0.177730</td>\n",
       "      <td>0.083984</td>\n",
       "      <td>0.606450</td>\n",
       "      <td>0.123050</td>\n",
       "      <td>0.247070</td>\n",
       "      <td>0.086914</td>\n",
       "      <td>0.149410</td>\n",
       "    </tr>\n",
       "  </tbody>\n",
       "</table>\n",
       "<p>8 rows × 193 columns</p>\n",
       "</div>"
      ],
      "text/plain": [
       "                id     margin1     margin2     margin3     margin4  \\\n",
       "count   594.000000  594.000000  594.000000  594.000000  594.000000   \n",
       "mean    780.673401    0.017562    0.028425    0.031858    0.022556   \n",
       "std     465.646977    0.019585    0.038351    0.025719    0.028797   \n",
       "min       4.000000    0.000000    0.000000    0.000000    0.000000   \n",
       "25%     368.500000    0.001953    0.001953    0.013672    0.005859   \n",
       "50%     774.000000    0.009766    0.010743    0.023438    0.013672   \n",
       "75%    1184.500000    0.028809    0.041016    0.042969    0.027344   \n",
       "max    1583.000000    0.085938    0.189450    0.167970    0.164060   \n",
       "\n",
       "          margin5     margin6     margin7     margin8     margin9     ...      \\\n",
       "count  594.000000  594.000000  594.000000  594.000000  594.000000     ...       \n",
       "mean     0.014527    0.037497    0.019222    0.001085    0.007092     ...       \n",
       "std      0.018029    0.051372    0.017122    0.002697    0.009515     ...       \n",
       "min      0.000000    0.000000    0.000000    0.000000    0.000000     ...       \n",
       "25%      0.001953    0.000000    0.005859    0.000000    0.001953     ...       \n",
       "50%      0.007812    0.013672    0.015625    0.000000    0.005859     ...       \n",
       "75%      0.019531    0.056641    0.029297    0.000000    0.007812     ...       \n",
       "max      0.093750    0.271480    0.087891    0.021484    0.083984     ...       \n",
       "\n",
       "        texture55   texture56   texture57   texture58   texture59   texture60  \\\n",
       "count  594.000000  594.000000  594.000000  594.000000  594.000000  594.000000   \n",
       "mean     0.035291    0.005923    0.015033    0.011762    0.015881    0.011217   \n",
       "std      0.064482    0.026934    0.022318    0.024771    0.014898    0.052530   \n",
       "min      0.000000    0.000000    0.000000    0.000000    0.000000    0.000000   \n",
       "25%      0.000000    0.000000    0.000977    0.000000    0.004883    0.000000   \n",
       "50%      0.003906    0.000000    0.005859    0.001953    0.012695    0.000000   \n",
       "75%      0.038086    0.000000    0.019531    0.010498    0.022461    0.000000   \n",
       "max      0.353520    0.441410    0.153320    0.177730    0.083984    0.606450   \n",
       "\n",
       "        texture61   texture62   texture63   texture64  \n",
       "count  594.000000  594.000000  594.000000  594.000000  \n",
       "mean     0.002617    0.019975    0.009389    0.020970  \n",
       "std      0.011204    0.034704    0.013457    0.023407  \n",
       "min      0.000000    0.000000    0.000000    0.000000  \n",
       "25%      0.000000    0.000000    0.000000    0.000977  \n",
       "50%      0.000000    0.003418    0.002930    0.013184  \n",
       "75%      0.000000    0.022461    0.014648    0.032227  \n",
       "max      0.123050    0.247070    0.086914    0.149410  \n",
       "\n",
       "[8 rows x 193 columns]"
      ]
     },
     "execution_count": 7,
     "metadata": {},
     "output_type": "execute_result"
    }
   ],
   "source": [
    "#train_data = pd.read_csv('train.csv')\n",
    "#train_data.shape\n",
    "#train_data.head()\n",
    "test_data = pd.read_csv('test.csv')\n",
    "test_data.shape\n",
    "#test_data.head()\n",
    "test_data.describe()\n"
   ]
  },
  {
   "cell_type": "markdown",
   "metadata": {},
   "source": [
    "# Training dataset  "
   ]
  },
  {
   "cell_type": "code",
   "execution_count": 8,
   "metadata": {
    "collapsed": true
   },
   "outputs": [],
   "source": [
    "\n",
    "def load_numeric_training(standardize=True):\n",
    "    #read data from CSV file\n",
    "    data = pd.read_csv('train.csv')\n",
    "    ID = data.pop('id')\n",
    "    y = data.pop('species')\n",
    "    y = LabelEncoder().fit(y).transform(y)\n",
    "     #standard the data by setting the mean to o and std to 1\n",
    "    X = StandardScaler().fit(data).transform(data) if standardize else data.values\n",
    "    return ID,X,y\n",
    "\n"
   ]
  },
  {
   "cell_type": "code",
   "execution_count": 12,
   "metadata": {},
   "outputs": [
    {
     "data": {
      "text/plain": [
       "(990, 99)"
      ]
     },
     "execution_count": 12,
     "metadata": {},
     "output_type": "execute_result"
    }
   ],
   "source": [
    "ID, X, y= load_numeric_training()\n",
    "ID.shape\n",
    "y = to_categorical(y)\n",
    "y.shape"
   ]
  },
  {
   "cell_type": "markdown",
   "metadata": {},
   "source": [
    "# Test dataset from "
   ]
  },
  {
   "cell_type": "code",
   "execution_count": 9,
   "metadata": {},
   "outputs": [
    {
     "data": {
      "text/plain": [
       "(594, 1584)"
      ]
     },
     "execution_count": 9,
     "metadata": {},
     "output_type": "execute_result"
    }
   ],
   "source": [
    "def load_numeric_test(standardize=True):\n",
    "    #read data from CSV file\n",
    "    test = pd.read_csv('test.csv')\n",
    "    ID = test.pop('id')\n",
    "    test = StandardScaler().fit(test).transform(test) if standardize else test.values\n",
    "    return ID, test\n",
    "ID, test =  load_numeric_test();\n",
    "ID = to_categorical(ID)\n",
    "ID.shape"
   ]
  },
  {
   "cell_type": "code",
   "execution_count": 14,
   "metadata": {
    "collapsed": true
   },
   "outputs": [],
   "source": [
    "#ss = load_numeric_test()"
   ]
  },
  {
   "cell_type": "markdown",
   "metadata": {},
   "source": [
    "# Resize image"
   ]
  },
  {
   "cell_type": "code",
   "execution_count": 15,
   "metadata": {
    "collapsed": true
   },
   "outputs": [],
   "source": [
    "def resize_img(img, max_dim=96):\n",
    "    \"\"\"\n",
    "    Resize the image so that the maximum side is of size max_dim\n",
    "    Returns a new image of the right size. We do this standarisation \n",
    "    process for ease of future computation.\n",
    "    \"\"\"\n",
    "    # Get the axis with the larger dimension\n",
    "    # Return the largest item in an iterable or the largest of two or more arguments.\n",
    "    # You pass it  zeros and one, 0 will give you the height, 1 will give..\n",
    "    # .. you the width, max then determines what axis is the largest. \n",
    "    \n",
    "    max_ax = max((0, 1), key=lambda i: img.size[i])\n",
    "    # Scale both axes so the image's largest dimension is max_dim\n",
    "    scale = max_dim / float(img.size[max_ax])\n",
    "    # The below code just makes sure that the proportional dimensions remain the same. \n",
    "    return img.resize((int(img.size[0] * scale), int(img.size[1] * scale)))"
   ]
  },
  {
   "cell_type": "code",
   "execution_count": 16,
   "metadata": {
    "collapsed": true
   },
   "outputs": [],
   "source": [
    "#le = preprocessing.LabelEncoder()\n",
    "#le.fit([1, 2, 3, 4])\n",
    "#le.classes_\n",
    "#le.transform([1, 2, 3, 4])\n",
    "#ID, X_num_tr, y = load_numeric_training()\n",
    "#ID[10]\n",
    "#resize_img(load_img(os.path.join('images/', str(ID[0]) + '.jpg'), grayscale=True), max_dim=96)"
   ]
  },
  {
   "cell_type": "markdown",
   "metadata": {},
   "source": [
    "# Load image data"
   ]
  },
  {
   "cell_type": "code",
   "execution_count": 17,
   "metadata": {
    "collapsed": true
   },
   "outputs": [],
   "source": [
    "def load_image_data(ids, max_dim=96, center=True):\n",
    "    \"\"\"\n",
    "    Takes as input an array of image ids and loads the images as numpy\n",
    "    arrays with the images resized so the longest side is max-dim length.\n",
    "    If center is True, then will place the image in the center of\n",
    "    the output array, otherwise it will be placed at the top-left corner.\n",
    "    \"\"\"\n",
    "    \n",
    "    # Initialize and empty output array, \n",
    "    X = np.empty((len(ids), max_dim, max_dim, 1))\n",
    "    \n",
    "    # Emumerate adds a counter to the itterable, thus in this scenario we...\n",
    "    # ... have the real id and a number of the id.\n",
    "    \n",
    "    for i, idee in enumerate(ids):\n",
    "        # Turn all images into an array, the textual information connect with the image name\n",
    "        # ... via the variable id. \n",
    "        x = resize_img(load_img(os.path.join('images/', str(idee) + '.jpg'), grayscale=True), max_dim=max_dim)\n",
    "        # img to array is an existing method part of keras.\n",
    "        # img has been resized but it has to put into array format. \n",
    "        x = img_to_array(x)\n",
    "        # Get the corners of the bounding box for the image\n",
    "        length = x.shape[0]\n",
    "        width = x.shape[1]\n",
    "        if center:\n",
    "            # have to put into integer for shape to understand. \n",
    "            # This is the code to position it to center\n",
    "            h1 = int((max_dim - length) / 2)\n",
    "            h2 = h1 + length\n",
    "            w1 = int((max_dim - width) / 2)\n",
    "            w2 = w1 + width\n",
    "        else:\n",
    "            # Now it will be left in the hoek\n",
    "            h1, w1 = 0, 0\n",
    "            h2, w2 = (length, width)\n",
    "        # Insert into image matrix\n",
    "        X[i, h1:h2, w1:w2, 0:1] = x\n",
    "        # X[i, 0:1, h1:h2, w1:w2] = x  # uncomment this\n",
    "    # Scale the array values so they are between 0 and 1\n",
    "    # It then rounds to a certain amount of decimals. \n",
    "    \"\"\"\n",
    "     Grayscale images (as photographs) intended for visual \n",
    "     display (both on screen and printed) are commonly stored \n",
    "     with 8 bits per sampled pixel, which allows 256 different\n",
    "     intensities\n",
    "     \n",
    "     The binary representations assume that 0 is black and the\n",
    "     maximum value (255 at 8 bpp, 65,535 at 16 bpp, etc.) is white\n",
    "    \"\"\"\n",
    "    \n",
    "    return np.around(X / 255.0)"
   ]
  },
  {
   "cell_type": "markdown",
   "metadata": {},
   "source": [
    "# Cross validation on training data"
   ]
  },
  {
   "cell_type": "code",
   "execution_count": 18,
   "metadata": {
    "collapsed": true
   },
   "outputs": [],
   "source": [
    "def load_train_data(split=split, random_state=None):\n",
    "    \"\"\"\n",
    "    Loads the pre-extracted feature and image training data and\n",
    "    splits them into training and cross-validation. Returns one \n",
    "    tuple for the training data and one for the validation\n",
    "    data. Each tuple is in the order pre-extracted features, images,\n",
    "    and labels.\n",
    "    \"\"\"\n",
    "    \n",
    "    # Load the pre-extracted features\n",
    "    ID, X_num_tr, y = load_numeric_training()\n",
    "    # Load the image data\n",
    "    X_img_tr = load_image_data(ID)\n",
    "    # Split them into validation and cross-validation\n",
    "    sss = StratifiedShuffleSplit(n_splits=1, train_size=split, random_state=random_state)\n",
    "    train_ind, test_ind = next(sss.split(X_num_tr, y))\n",
    "    X_num_val, X_img_val, y_val = X_num_tr[test_ind], X_img_tr[test_ind], y[test_ind]\n",
    "    X_num_tr, X_img_tr, y_tr = X_num_tr[train_ind], X_img_tr[train_ind], y[train_ind]\n",
    "   \n",
    "    return (X_num_tr, X_img_tr, y_tr), (X_num_val, X_img_val, y_val)"
   ]
  },
  {
   "cell_type": "code",
   "execution_count": 19,
   "metadata": {},
   "outputs": [
    {
     "name": "stdout",
     "output_type": "stream",
     "text": [
      "Loading the training data...\n",
      "Training data loaded!\n"
     ]
    }
   ],
   "source": [
    "print('Loading the training data...')\n",
    "(X_num_tr, X_img_tr, y_tr), (X_num_val, X_img_val, y_val) = load_train_data(random_state=split_random_state)\n",
    "y_tr_cat = to_categorical(y_tr)\n",
    "y_val_cat = to_categorical(y_val)\n",
    "print('Training data loaded!')\n",
    "\n"
   ]
  },
  {
   "cell_type": "code",
   "execution_count": 20,
   "metadata": {},
   "outputs": [
    {
     "name": "stdout",
     "output_type": "stream",
     "text": [
      "(99, 192)\n",
      "(99, 96, 96, 1)\n",
      "(99,)\n",
      "(792, 192)\n",
      "(792, 96, 96, 1)\n",
      "(792,)\n"
     ]
    }
   ],
   "source": [
    "print(X_num_val.shape)\n",
    "print(X_img_val.shape)\n",
    "print(y_val.shape)\n",
    "print(X_num_tr.shape)\n",
    "print(X_img_tr.shape)\n",
    "print(y_tr.shape)"
   ]
  },
  {
   "cell_type": "code",
   "execution_count": 21,
   "metadata": {
    "collapsed": true
   },
   "outputs": [],
   "source": [
    "def load_test_data():\n",
    "    \"\"\"\n",
    "    Loads the pre-extracted feature and image test data.\n",
    "    Returns a tuple in the order ids, pre-extracted features,\n",
    "    and images.\n",
    "    \"\"\"\n",
    "    # Load the pre-extracted features\n",
    "    ID, X_num_te = load_numeric_test()\n",
    "    # Load the image data\n",
    "    X_img_te = load_image_data(ID)\n",
    "    return ID, X_num_te, X_img_te"
   ]
  },
  {
   "cell_type": "markdown",
   "metadata": {},
   "source": [
    "# Data Augmentation"
   ]
  },
  {
   "cell_type": "code",
   "execution_count": 22,
   "metadata": {},
   "outputs": [
    {
     "name": "stdout",
     "output_type": "stream",
     "text": [
      "Creating Data Augmenter...\n",
      "Finished making data augmenter...\n"
     ]
    }
   ],
   "source": [
    "#------------------------------------------------------- Data augmentation\n",
    "\n",
    "# This code inludes random image rotation and zoom, important generalisability operations.\n",
    "\n",
    "from keras.preprocessing.image import ImageDataGenerator, NumpyArrayIterator, array_to_img\n",
    "\n",
    "# A little hacky piece of code to get access to the indices of the images...\n",
    "# ...the data augmenter is working with.\n",
    "\n",
    "class ImageDataGenerator2(ImageDataGenerator):\n",
    "    def flow(self, X, y=None, batch_size=32, shuffle=True, seed=None,\n",
    "             save_to_dir=None, save_prefix='', save_format='jpeg'):\n",
    "        return NumpyArrayIterator2(\n",
    "            X, y, self,\n",
    "            batch_size=batch_size, shuffle=shuffle, seed=seed,\n",
    "            save_to_dir=save_to_dir, save_prefix=save_prefix, save_format=save_format)\n",
    "\n",
    "\n",
    "class NumpyArrayIterator2(NumpyArrayIterator):\n",
    "    def next(self):\n",
    "        # see http://anandology.com/blog/using-iterators-and-generators/\n",
    "        with self.lock:\n",
    "            # We changed index_array to self.index_array\n",
    "            self.index_array, current_index, current_batch_size = next(self.index_generator)\n",
    "        # The transformation of images is not under thread lock so it can be done in parallel\n",
    "        batch_x = np.zeros(tuple([current_batch_size] + list(self.x.shape)[1:]))\n",
    "        for i, j in enumerate(self.index_array):\n",
    "            x = self.x[j]\n",
    "            x = self.image_data_generator.random_transform(x.astype('float32'))\n",
    "            x = self.image_data_generator.standardize(x)\n",
    "            batch_x[i] = x\n",
    "        if self.save_to_dir:\n",
    "            for i in range(current_batch_size):\n",
    "                img = array_to_img(batch_x[i], scale=True)\n",
    "                fname = '{prefix}_{index}_{hash}.{format}'.format(prefix=self.save_prefix,\n",
    "                                                                  index=current_index + i,\n",
    "                                                                  hash=np.random.randint(1e4),\n",
    "                                                                  format=self.save_format)\n",
    "                img.save(os.path.join(self.save_to_dir, fname))\n",
    "        if self.y is None:\n",
    "            return batch_x\n",
    "        batch_y = self.y[self.index_array]\n",
    "        return batch_x, batch_y\n",
    "\n",
    "print('Creating Data Augmenter...')\n",
    "imgen = ImageDataGenerator2(\n",
    "    rotation_range=20,\n",
    "    zoom_range=0.2,\n",
    "    horizontal_flip=True,\n",
    "    vertical_flip=True,\n",
    "    fill_mode='nearest')\n",
    "imgen_train = imgen.flow(X_img_tr, y_tr_cat, seed=np.random.randint(1, 10000))\n",
    "print('Finished making data augmenter...')\n",
    "\n"
   ]
  },
  {
   "cell_type": "markdown",
   "metadata": {},
   "source": [
    "# Model Creation"
   ]
  },
  {
   "cell_type": "code",
   "execution_count": 23,
   "metadata": {},
   "outputs": [
    {
     "name": "stdout",
     "output_type": "stream",
     "text": [
      "Creating the model...\n"
     ]
    },
    {
     "name": "stderr",
     "output_type": "stream",
     "text": [
      "C:\\Users\\100641313\\AppData\\Local\\Continuum\\Anaconda3\\lib\\site-packages\\ipykernel_launcher.py:12: UserWarning: Update your `Conv2D` call to the Keras 2 API: `Conv2D(8, (5, 5), input_shape=(96, 96, 1..., padding=\"same\")`\n",
      "  if sys.path[0] == '':\n",
      "C:\\Users\\100641313\\AppData\\Local\\Continuum\\Anaconda3\\lib\\site-packages\\ipykernel_launcher.py:17: UserWarning: Update your `Conv2D` call to the Keras 2 API: `Conv2D(32, (5, 5), padding=\"same\")`\n",
      "C:\\Users\\100641313\\AppData\\Local\\Continuum\\Anaconda3\\lib\\site-packages\\ipykernel_launcher.py:26: UserWarning: The `merge` function is deprecated and will be removed after 08/2017. Use instead layers from `keras.layers.merge`, e.g. `add`, `concatenate`, etc.\n",
      "C:\\Users\\100641313\\AppData\\Local\\Continuum\\Anaconda3\\lib\\site-packages\\keras\\legacy\\layers.py:458: UserWarning: The `Merge` layer is deprecated and will be removed after 08/2017. Use instead layers from `keras.layers.merge`, e.g. `add`, `concatenate`, etc.\n",
      "  name=name)\n",
      "C:\\Users\\100641313\\AppData\\Local\\Continuum\\Anaconda3\\lib\\site-packages\\ipykernel_launcher.py:35: UserWarning: Update your `Model` call to the Keras 2 API: `Model(inputs=[<tf.Tenso..., outputs=Tensor(\"de...)`\n"
     ]
    },
    {
     "name": "stdout",
     "output_type": "stream",
     "text": [
      "Model created!\n"
     ]
    }
   ],
   "source": [
    "#---------------------------Combining the Image CNN with the Pre-Extracted Features MLP¶\n",
    "\n",
    "from keras.models import Model\n",
    "from keras.layers import Dense, Dropout, Activation, Convolution2D, MaxPooling2D, Flatten, Input, merge\n",
    "\n",
    "\n",
    "def combined_model():\n",
    "\n",
    "    # Define the image input\n",
    "    image = Input(shape=(96, 96, 1), name='image')\n",
    "    # Pass it through the first convolutional layer\n",
    "    x = Convolution2D(8, 5, 5, input_shape=(96, 96, 1), border_mode='same')(image)\n",
    "    x = (Activation('relu'))(x)\n",
    "    x = (MaxPooling2D(pool_size=(2, 2), strides=(2, 2)))(x)\n",
    "\n",
    "    # Now through the second convolutional layer\n",
    "    x = (Convolution2D(32, 5, 5, border_mode='same'))(x)\n",
    "    x = (Activation('relu'))(x)\n",
    "    x = (MaxPooling2D(pool_size=(2, 2), strides=(2, 2)))(x)\n",
    "\n",
    "    # Flatten our array\n",
    "    x = Flatten()(x)\n",
    "    # Define the pre-extracted feature input\n",
    "    numerical = Input(shape=(192,), name='numerical')\n",
    "    # Concatenate the output of our convnet with our pre-extracted feature input\n",
    "    concatenated = merge([x, numerical], mode='concat')\n",
    "\n",
    "    # Add a fully connected layer just like in a normal MLP\n",
    "    x = Dense(100, activation='relu')(concatenated)\n",
    "    x = Dropout(.5)(x)\n",
    "\n",
    "    # Get the final output\n",
    "    out = Dense(99, activation='softmax')(x)\n",
    "    # How we create models with the Functional API\n",
    "    model = Model(input=[image, numerical], output=out)\n",
    "    model.compile(loss='categorical_crossentropy', optimizer='rmsprop', metrics=['accuracy'])\n",
    "\n",
    "    return model\n",
    "\n",
    "print('Creating the model...')\n",
    "model = combined_model()\n",
    "print('Model created!')\n"
   ]
  },
  {
   "cell_type": "markdown",
   "metadata": {},
   "source": [
    "# Train Model"
   ]
  },
  {
   "cell_type": "code",
   "execution_count": 23,
   "metadata": {
    "scrolled": false
   },
   "outputs": [
    {
     "name": "stdout",
     "output_type": "stream",
     "text": [
      "Training model...\n"
     ]
    },
    {
     "name": "stderr",
     "output_type": "stream",
     "text": [
      "C:\\Users\\100641313\\AppData\\Local\\Continuum\\Anaconda3\\lib\\site-packages\\ipykernel_launcher.py:33: UserWarning: The semantics of the Keras 2 argument `steps_per_epoch` is not the same as the Keras 1 argument `samples_per_epoch`. `steps_per_epoch` is the number of batches to draw from the generator at each epoch. Basically steps_per_epoch = samples_per_epoch/batch_size. Similarly `nb_val_samples`->`validation_steps` and `val_samples`->`steps` arguments have changed. Update your method calls accordingly.\n",
      "C:\\Users\\100641313\\AppData\\Local\\Continuum\\Anaconda3\\lib\\site-packages\\ipykernel_launcher.py:33: UserWarning: Update your `fit_generator` call to the Keras 2 API: `fit_generator(<generator..., validation_data=([array([[..., verbose=1, callbacks=[<keras.ca..., steps_per_epoch=792, epochs=100, validation_steps=99)`\n"
     ]
    },
    {
     "name": "stdout",
     "output_type": "stream",
     "text": [
      "Epoch 1/100\n",
      "791/792 [============================>.] - ETA: 0s - loss: 0.8891 - acc: 0.7860Epoch 00000: val_loss improved from inf to 0.04621, saving model to leafnet.h5\n",
      "792/792 [==============================] - 229s - loss: 0.8880 - acc: 0.7862 - val_loss: 0.0462 - val_acc: 0.9798\n",
      "Epoch 2/100\n",
      "791/792 [============================>.] - ETA: 0s - loss: 0.0623 - acc: 0.9836Epoch 00001: val_loss improved from 0.04621 to 0.01714, saving model to leafnet.h5\n",
      "792/792 [==============================] - 233s - loss: 0.0623 - acc: 0.9836 - val_loss: 0.0171 - val_acc: 0.9899\n",
      "Epoch 3/100\n",
      "791/792 [============================>.] - ETA: 0s - loss: 0.0262 - acc: 0.9930Epoch 00002: val_loss improved from 0.01714 to 0.00738, saving model to leafnet.h5\n",
      "792/792 [==============================] - 239s - loss: 0.0262 - acc: 0.9930 - val_loss: 0.0074 - val_acc: 1.0000\n",
      "Epoch 4/100\n",
      "791/792 [============================>.] - ETA: 0s - loss: 0.0151 - acc: 0.9957Epoch 00003: val_loss did not improve\n",
      "792/792 [==============================] - 242s - loss: 0.0151 - acc: 0.9957 - val_loss: 0.0137 - val_acc: 0.9899\n",
      "Epoch 5/100\n",
      "791/792 [============================>.] - ETA: 0s - loss: 0.0096 - acc: 0.9970Epoch 00004: val_loss did not improve\n",
      "792/792 [==============================] - 243s - loss: 0.0096 - acc: 0.9970 - val_loss: 0.0117 - val_acc: 0.9899\n",
      "Epoch 6/100\n",
      "791/792 [============================>.] - ETA: 0s - loss: 0.0078 - acc: 0.9974Epoch 00005: val_loss did not improve\n",
      "792/792 [==============================] - 242s - loss: 0.0078 - acc: 0.9974 - val_loss: 0.0161 - val_acc: 0.9899\n",
      "Epoch 7/100\n",
      "791/792 [============================>.] - ETA: 0s - loss: 0.0072 - acc: 0.9976Epoch 00006: val_loss improved from 0.00738 to 0.00555, saving model to leafnet.h5\n",
      "792/792 [==============================] - 243s - loss: 0.0072 - acc: 0.9976 - val_loss: 0.0055 - val_acc: 1.0000\n",
      "Epoch 8/100\n",
      "791/792 [============================>.] - ETA: 0s - loss: 0.0063 - acc: 0.9976Epoch 00007: val_loss did not improve\n",
      "792/792 [==============================] - 244s - loss: 0.0063 - acc: 0.9976 - val_loss: 0.0215 - val_acc: 0.9899\n",
      "Epoch 9/100\n",
      "791/792 [============================>.] - ETA: 0s - loss: 0.0061 - acc: 0.9980Epoch 00008: val_loss did not improve\n",
      "792/792 [==============================] - 244s - loss: 0.0060 - acc: 0.9980 - val_loss: 0.0153 - val_acc: 0.9899\n",
      "Epoch 10/100\n",
      "791/792 [============================>.] - ETA: 0s - loss: 0.0041 - acc: 0.9988Epoch 00009: val_loss did not improve\n",
      "792/792 [==============================] - 244s - loss: 0.0041 - acc: 0.9988 - val_loss: 0.0235 - val_acc: 0.9899\n",
      "Epoch 11/100\n",
      "791/792 [============================>.] - ETA: 0s - loss: 0.0044 - acc: 0.9986Epoch 00010: val_loss did not improve\n",
      "792/792 [==============================] - 243s - loss: 0.0044 - acc: 0.9986 - val_loss: 0.0320 - val_acc: 0.9899\n",
      "Epoch 12/100\n",
      "791/792 [============================>.] - ETA: 0s - loss: 0.0035 - acc: 0.9986Epoch 00011: val_loss did not improve\n",
      "792/792 [==============================] - 244s - loss: 0.0035 - acc: 0.9986 - val_loss: 0.0293 - val_acc: 0.9899\n",
      "Epoch 13/100\n",
      "791/792 [============================>.] - ETA: 0s - loss: 0.0037 - acc: 0.9988Epoch 00012: val_loss did not improve\n",
      "792/792 [==============================] - 245s - loss: 0.0037 - acc: 0.9988 - val_loss: 0.0186 - val_acc: 0.9899\n",
      "Epoch 14/100\n",
      "791/792 [============================>.] - ETA: 0s - loss: 0.0031 - acc: 0.9990Epoch 00013: val_loss did not improve\n",
      "792/792 [==============================] - 244s - loss: 0.0031 - acc: 0.9990 - val_loss: 0.0092 - val_acc: 0.9899\n",
      "Epoch 15/100\n",
      "791/792 [============================>.] - ETA: 0s - loss: 0.0039 - acc: 0.9986Epoch 00014: val_loss did not improve\n",
      "792/792 [==============================] - 248s - loss: 0.0039 - acc: 0.9986 - val_loss: 0.0125 - val_acc: 0.9899\n",
      "Epoch 16/100\n",
      "791/792 [============================>.] - ETA: 0s - loss: 0.0026 - acc: 0.9990Epoch 00015: val_loss did not improve\n",
      "792/792 [==============================] - 257s - loss: 0.0026 - acc: 0.9990 - val_loss: 0.0381 - val_acc: 0.9899\n",
      "Epoch 17/100\n",
      "791/792 [============================>.] - ETA: 0s - loss: 0.0034 - acc: 0.9990Epoch 00016: val_loss did not improve\n",
      "792/792 [==============================] - 244s - loss: 0.0034 - acc: 0.9990 - val_loss: 0.0298 - val_acc: 0.9899\n",
      "Epoch 18/100\n",
      "791/792 [============================>.] - ETA: 0s - loss: 0.0034 - acc: 0.9989Epoch 00017: val_loss did not improve\n",
      "792/792 [==============================] - 244s - loss: 0.0034 - acc: 0.9989 - val_loss: 0.0222 - val_acc: 0.9899\n",
      "Epoch 19/100\n",
      "791/792 [============================>.] - ETA: 0s - loss: 0.0062 - acc: 0.9985Epoch 00018: val_loss did not improve\n",
      "792/792 [==============================] - 251s - loss: 0.0062 - acc: 0.9985 - val_loss: 0.0193 - val_acc: 0.9899\n",
      "Epoch 20/100\n",
      "791/792 [============================>.] - ETA: 0s - loss: 0.0037 - acc: 0.9987Epoch 00019: val_loss did not improve\n",
      "792/792 [==============================] - 252s - loss: 0.0037 - acc: 0.9987 - val_loss: 0.0165 - val_acc: 0.9899\n",
      "Epoch 21/100\n",
      "791/792 [============================>.] - ETA: 0s - loss: 0.0043 - acc: 0.9987Epoch 00020: val_loss improved from 0.00555 to 0.00406, saving model to leafnet.h5\n",
      "792/792 [==============================] - 248s - loss: 0.0043 - acc: 0.9988 - val_loss: 0.0041 - val_acc: 1.0000\n",
      "Epoch 22/100\n",
      "791/792 [============================>.] - ETA: 0s - loss: 0.0038 - acc: 0.9987Epoch 00021: val_loss improved from 0.00406 to 0.00214, saving model to leafnet.h5\n",
      "792/792 [==============================] - 248s - loss: 0.0038 - acc: 0.9987 - val_loss: 0.0021 - val_acc: 1.0000\n",
      "Epoch 23/100\n",
      "791/792 [============================>.] - ETA: 0s - loss: 0.0183 - acc: 0.9980Epoch 00022: val_loss improved from 0.00214 to 0.00119, saving model to leafnet.h5\n",
      "792/792 [==============================] - 248s - loss: 0.0183 - acc: 0.9980 - val_loss: 0.0012 - val_acc: 1.0000\n",
      "Epoch 24/100\n",
      "791/792 [============================>.] - ETA: 0s - loss: 0.0043 - acc: 0.9984Epoch 00023: val_loss did not improve\n",
      "792/792 [==============================] - 252s - loss: 0.0043 - acc: 0.9984 - val_loss: 0.0035 - val_acc: 1.0000\n",
      "Epoch 25/100\n",
      "791/792 [============================>.] - ETA: 0s - loss: 0.0106 - acc: 0.9984Epoch 00024: val_loss did not improve\n",
      "792/792 [==============================] - 248s - loss: 0.0106 - acc: 0.9984 - val_loss: 0.0049 - val_acc: 1.0000\n",
      "Epoch 26/100\n",
      "791/792 [============================>.] - ETA: 0s - loss: 0.0037 - acc: 0.9986Epoch 00025: val_loss did not improve\n",
      "792/792 [==============================] - 253s - loss: 0.0037 - acc: 0.9986 - val_loss: 0.0014 - val_acc: 1.0000\n",
      "Epoch 27/100\n",
      "791/792 [============================>.] - ETA: 0s - loss: 0.0037 - acc: 0.9988Epoch 00026: val_loss did not improve\n",
      "792/792 [==============================] - 250s - loss: 0.0037 - acc: 0.9988 - val_loss: 0.0041 - val_acc: 1.0000\n",
      "Epoch 28/100\n",
      "791/792 [============================>.] - ETA: 0s - loss: 0.0044 - acc: 0.9988Epoch 00027: val_loss did not improve\n",
      "792/792 [==============================] - 251s - loss: 0.0044 - acc: 0.9988 - val_loss: 0.0016 - val_acc: 1.0000\n",
      "Epoch 29/100\n",
      "791/792 [============================>.] - ETA: 0s - loss: 0.0037 - acc: 0.9988Epoch 00028: val_loss did not improve\n",
      "792/792 [==============================] - 253s - loss: 0.0037 - acc: 0.9988 - val_loss: 0.0031 - val_acc: 1.0000\n",
      "Epoch 30/100\n",
      "791/792 [============================>.] - ETA: 0s - loss: 0.0044 - acc: 0.9987Epoch 00029: val_loss did not improve\n",
      "792/792 [==============================] - 253s - loss: 0.0044 - acc: 0.9987 - val_loss: 0.0261 - val_acc: 0.9899\n",
      "Epoch 31/100\n",
      "791/792 [============================>.] - ETA: 6s - loss: 0.0046 - acc: 0.9990 Epoch 00030: val_loss did not improve\n",
      "792/792 [==============================] - 5254s - loss: 0.0046 - acc: 0.9990 - val_loss: 0.0078 - val_acc: 0.9899\n",
      "Epoch 32/100\n",
      "791/792 [============================>.] - ETA: 0s - loss: 0.0021 - acc: 0.9993Epoch 00031: val_loss did not improve\n",
      "792/792 [==============================] - 249s - loss: 0.0021 - acc: 0.9993 - val_loss: 0.0167 - val_acc: 0.9899\n",
      "Epoch 33/100\n",
      "791/792 [============================>.] - ETA: 0s - loss: 0.0035 - acc: 0.9989Epoch 00032: val_loss did not improve\n",
      "792/792 [==============================] - 265s - loss: 0.0035 - acc: 0.9989 - val_loss: 0.0095 - val_acc: 0.9899\n",
      "Epoch 34/100\n",
      "791/792 [============================>.] - ETA: 0s - loss: 0.0042 - acc: 0.9987Epoch 00033: val_loss did not improve\n",
      "792/792 [==============================] - 270s - loss: 0.0042 - acc: 0.9988 - val_loss: 0.0044 - val_acc: 1.0000\n",
      "Epoch 35/100\n",
      "791/792 [============================>.] - ETA: 0s - loss: 0.0085 - acc: 0.9985Epoch 00034: val_loss did not improve\n",
      "792/792 [==============================] - 287s - loss: 0.0085 - acc: 0.9985 - val_loss: 0.0110 - val_acc: 0.9899\n",
      "Epoch 36/100\n",
      "791/792 [============================>.] - ETA: 0s - loss: 0.0030 - acc: 0.9990Epoch 00035: val_loss did not improve\n",
      "792/792 [==============================] - 267s - loss: 0.0030 - acc: 0.9990 - val_loss: 0.0178 - val_acc: 0.9899\n",
      "Epoch 37/100\n",
      "791/792 [============================>.] - ETA: 0s - loss: 0.0038 - acc: 0.9989Epoch 00036: val_loss did not improve\n",
      "792/792 [==============================] - 270s - loss: 0.0038 - acc: 0.9989 - val_loss: 0.0176 - val_acc: 0.9899\n",
      "Epoch 38/100\n",
      "791/792 [============================>.] - ETA: 0s - loss: 0.0163 - acc: 0.9980Epoch 00037: val_loss did not improve\n",
      "792/792 [==============================] - 289s - loss: 0.0162 - acc: 0.9980 - val_loss: 0.0227 - val_acc: 0.9899\n",
      "Epoch 39/100\n",
      "791/792 [============================>.] - ETA: 0s - loss: 0.0046 - acc: 0.9987Epoch 00038: val_loss did not improve\n",
      "792/792 [==============================] - 273s - loss: 0.0046 - acc: 0.9987 - val_loss: 0.0136 - val_acc: 0.9899\n",
      "Epoch 40/100\n",
      "791/792 [============================>.] - ETA: 0s - loss: 0.0024 - acc: 0.9993Epoch 00039: val_loss did not improve\n",
      "792/792 [==============================] - 277s - loss: 0.0024 - acc: 0.9993 - val_loss: 0.0032 - val_acc: 1.0000\n",
      "Epoch 41/100\n",
      "791/792 [============================>.] - ETA: 0s - loss: 0.0261 - acc: 0.9974Epoch 00040: val_loss did not improve\n",
      "792/792 [==============================] - 267s - loss: 0.0261 - acc: 0.9974 - val_loss: 0.0038 - val_acc: 1.0000\n",
      "Epoch 42/100\n",
      "791/792 [============================>.] - ETA: 0s - loss: 0.0034 - acc: 0.9990Epoch 00041: val_loss improved from 0.00119 to 0.00015, saving model to leafnet.h5\n",
      "792/792 [==============================] - 279s - loss: 0.0034 - acc: 0.9990 - val_loss: 1.5440e-04 - val_acc: 1.0000\n",
      "Epoch 43/100\n",
      "791/792 [============================>.] - ETA: 0s - loss: 0.0046 - acc: 0.9991Epoch 00042: val_loss did not improve\n",
      "792/792 [==============================] - 260s - loss: 0.0045 - acc: 0.9991 - val_loss: 2.7980e-04 - val_acc: 1.0000\n",
      "Epoch 44/100\n",
      "791/792 [============================>.] - ETA: 0s - loss: 0.0039 - acc: 0.9987Epoch 00043: val_loss did not improve\n",
      "792/792 [==============================] - 262s - loss: 0.0038 - acc: 0.9987 - val_loss: 0.0191 - val_acc: 0.9899\n",
      "Epoch 45/100\n",
      "791/792 [============================>.] - ETA: 0s - loss: 0.0042 - acc: 0.9988Epoch 00044: val_loss did not improve\n",
      "792/792 [==============================] - 274s - loss: 0.0042 - acc: 0.9988 - val_loss: 0.0087 - val_acc: 0.9899\n",
      "Epoch 46/100\n",
      "791/792 [============================>.] - ETA: 0s - loss: 0.0022 - acc: 0.9992Epoch 00045: val_loss did not improve\n",
      "792/792 [==============================] - 264s - loss: 0.0022 - acc: 0.9992 - val_loss: 0.0026 - val_acc: 1.0000\n",
      "Epoch 47/100\n",
      "791/792 [============================>.] - ETA: 0s - loss: 0.0027 - acc: 0.9990Epoch 00046: val_loss did not improve\n",
      "792/792 [==============================] - 274s - loss: 0.0027 - acc: 0.9990 - val_loss: 2.2518e-04 - val_acc: 1.0000\n",
      "Epoch 48/100\n",
      "791/792 [============================>.] - ETA: 0s - loss: 0.0036 - acc: 0.9991Epoch 00047: val_loss did not improve\n",
      "792/792 [==============================] - 270s - loss: 0.0036 - acc: 0.9991 - val_loss: 0.0063 - val_acc: 1.0000\n",
      "Epoch 49/100\n",
      "791/792 [============================>.] - ETA: 0s - loss: 0.0027 - acc: 0.9991Epoch 00048: val_loss did not improve\n",
      "792/792 [==============================] - 264s - loss: 0.0027 - acc: 0.9991 - val_loss: 0.0044 - val_acc: 1.0000\n",
      "Epoch 50/100\n",
      "791/792 [============================>.] - ETA: 0s - loss: 0.0046 - acc: 0.9989Epoch 00049: val_loss did not improve\n",
      "792/792 [==============================] - 289s - loss: 0.0046 - acc: 0.9989 - val_loss: 6.4135e-04 - val_acc: 1.0000\n",
      "Epoch 51/100\n",
      "791/792 [============================>.] - ETA: 0s - loss: 0.0034 - acc: 0.9991Epoch 00050: val_loss did not improve\n",
      "792/792 [==============================] - 276s - loss: 0.0034 - acc: 0.9991 - val_loss: 0.0055 - val_acc: 1.0000\n",
      "Epoch 52/100\n",
      "791/792 [============================>.] - ETA: 0s - loss: 0.0040 - acc: 0.9987Epoch 00051: val_loss did not improve\n",
      "792/792 [==============================] - 257s - loss: 0.0040 - acc: 0.9987 - val_loss: 0.0020 - val_acc: 1.0000\n",
      "Epoch 53/100\n",
      "791/792 [============================>.] - ETA: 0s - loss: 0.0033 - acc: 0.9991Epoch 00052: val_loss did not improve\n",
      "792/792 [==============================] - 262s - loss: 0.0033 - acc: 0.9991 - val_loss: 0.0022 - val_acc: 1.0000\n",
      "Epoch 54/100\n",
      "791/792 [============================>.] - ETA: 0s - loss: 0.0042 - acc: 0.9987Epoch 00053: val_loss did not improve\n",
      "792/792 [==============================] - 267s - loss: 0.0042 - acc: 0.9987 - val_loss: 0.0012 - val_acc: 1.0000\n",
      "Epoch 55/100\n",
      "791/792 [============================>.] - ETA: 0s - loss: 0.0051 - acc: 0.9990Epoch 00054: val_loss did not improve\n",
      "792/792 [==============================] - 260s - loss: 0.0051 - acc: 0.9990 - val_loss: 9.2629e-04 - val_acc: 1.0000\n",
      "Epoch 56/100\n",
      "791/792 [============================>.] - ETA: 0s - loss: 0.0046 - acc: 0.9987Epoch 00055: val_loss did not improve\n",
      "792/792 [==============================] - 258s - loss: 0.0046 - acc: 0.9987 - val_loss: 5.8277e-04 - val_acc: 1.0000\n",
      "Epoch 57/100\n",
      "791/792 [============================>.] - ETA: 0s - loss: 0.0027 - acc: 0.9992Epoch 00056: val_loss did not improve\n",
      "792/792 [==============================] - 256s - loss: 0.0027 - acc: 0.9992 - val_loss: 1.6204e-04 - val_acc: 1.0000\n",
      "Epoch 58/100\n",
      "791/792 [============================>.] - ETA: 0s - loss: 0.0040 - acc: 0.9988Epoch 00057: val_loss did not improve\n",
      "792/792 [==============================] - 257s - loss: 0.0040 - acc: 0.9988 - val_loss: 0.0080 - val_acc: 0.9899\n",
      "Epoch 59/100\n",
      "791/792 [============================>.] - ETA: 0s - loss: 0.0033 - acc: 0.9991Epoch 00058: val_loss did not improve\n",
      "792/792 [==============================] - 268s - loss: 0.0033 - acc: 0.9991 - val_loss: 1.7464e-04 - val_acc: 1.0000\n",
      "Epoch 60/100\n",
      "791/792 [============================>.] - ETA: 0s - loss: 0.0036 - acc: 0.9989Epoch 00059: val_loss did not improve\n",
      "792/792 [==============================] - 259s - loss: 0.0036 - acc: 0.9989 - val_loss: 0.0299 - val_acc: 0.9899\n",
      "Epoch 61/100\n",
      "791/792 [============================>.] - ETA: 0s - loss: 0.0048 - acc: 0.9987Epoch 00060: val_loss did not improve\n",
      "792/792 [==============================] - 286s - loss: 0.0048 - acc: 0.9987 - val_loss: 0.0177 - val_acc: 0.9899\n",
      "Epoch 62/100\n",
      "791/792 [============================>.] - ETA: 0s - loss: 0.0030 - acc: 0.9990Epoch 00061: val_loss did not improve\n",
      "792/792 [==============================] - 270s - loss: 0.0030 - acc: 0.9990 - val_loss: 2.4458e-04 - val_acc: 1.0000\n",
      "Epoch 63/100\n",
      "791/792 [============================>.] - ETA: 0s - loss: 0.0041 - acc: 0.9989Epoch 00062: val_loss did not improve\n",
      "792/792 [==============================] - 262s - loss: 0.0041 - acc: 0.9989 - val_loss: 0.0034 - val_acc: 1.0000\n",
      "Epoch 64/100\n",
      "791/792 [============================>.] - ETA: 0s - loss: 0.0052 - acc: 0.9987Epoch 00063: val_loss did not improve\n",
      "792/792 [==============================] - 259s - loss: 0.0052 - acc: 0.9987 - val_loss: 0.0141 - val_acc: 0.9899\n",
      "Epoch 65/100\n",
      "791/792 [============================>.] - ETA: 0s - loss: 0.0037 - acc: 0.9987Epoch 00064: val_loss did not improve\n",
      "792/792 [==============================] - 259s - loss: 0.0037 - acc: 0.9987 - val_loss: 6.0127e-04 - val_acc: 1.0000\n",
      "Epoch 66/100\n"
     ]
    },
    {
     "name": "stdout",
     "output_type": "stream",
     "text": [
      "791/792 [============================>.] - ETA: 0s - loss: 0.0040 - acc: 0.9987Epoch 00065: val_loss did not improve\n",
      "792/792 [==============================] - 272s - loss: 0.0039 - acc: 0.9987 - val_loss: 0.0041 - val_acc: 1.0000\n",
      "Epoch 67/100\n",
      "791/792 [============================>.] - ETA: 0s - loss: 0.0042 - acc: 0.9989Epoch 00066: val_loss did not improve\n",
      "792/792 [==============================] - 260s - loss: 0.0042 - acc: 0.9989 - val_loss: 0.0065 - val_acc: 1.0000\n",
      "Epoch 68/100\n",
      "791/792 [============================>.] - ETA: 0s - loss: 0.0123 - acc: 0.9983Epoch 00067: val_loss did not improve\n",
      "792/792 [==============================] - 255s - loss: 0.0123 - acc: 0.9983 - val_loss: 0.0024 - val_acc: 1.0000\n",
      "Epoch 69/100\n",
      "791/792 [============================>.] - ETA: 0s - loss: 0.0050 - acc: 0.9987Epoch 00068: val_loss did not improve\n",
      "792/792 [==============================] - 282s - loss: 0.0050 - acc: 0.9987 - val_loss: 0.0038 - val_acc: 1.0000\n",
      "Epoch 70/100\n",
      "791/792 [============================>.] - ETA: 0s - loss: 0.0026 - acc: 0.9991Epoch 00069: val_loss did not improve\n",
      "792/792 [==============================] - 290s - loss: 0.0026 - acc: 0.9991 - val_loss: 0.0151 - val_acc: 0.9899\n",
      "Epoch 71/100\n",
      "791/792 [============================>.] - ETA: 0s - loss: 0.0045 - acc: 0.9989Epoch 00070: val_loss did not improve\n",
      "792/792 [==============================] - 265s - loss: 0.0045 - acc: 0.9989 - val_loss: 0.0102 - val_acc: 0.9899\n",
      "Epoch 72/100\n",
      "791/792 [============================>.] - ETA: 0s - loss: 0.0128 - acc: 0.9985Epoch 00071: val_loss did not improve\n",
      "792/792 [==============================] - 265s - loss: 0.0128 - acc: 0.9985 - val_loss: 0.0027 - val_acc: 1.0000\n",
      "Epoch 73/100\n",
      "791/792 [============================>.] - ETA: 0s - loss: 0.0037 - acc: 0.9989Epoch 00072: val_loss did not improve\n",
      "792/792 [==============================] - 263s - loss: 0.0037 - acc: 0.9989 - val_loss: 0.0143 - val_acc: 0.9899\n",
      "Epoch 74/100\n",
      "791/792 [============================>.] - ETA: 0s - loss: 0.0038 - acc: 0.9991Epoch 00073: val_loss improved from 0.00015 to 0.00010, saving model to leafnet.h5\n",
      "792/792 [==============================] - 260s - loss: 0.0038 - acc: 0.9991 - val_loss: 9.5632e-05 - val_acc: 1.0000\n",
      "Epoch 75/100\n",
      "791/792 [============================>.] - ETA: 0s - loss: 0.0042 - acc: 0.9987Epoch 00074: val_loss did not improve\n",
      "792/792 [==============================] - 259s - loss: 0.0042 - acc: 0.9987 - val_loss: 0.0046 - val_acc: 1.0000\n",
      "Epoch 76/100\n",
      "791/792 [============================>.] - ETA: 0s - loss: 0.0033 - acc: 0.9991Epoch 00075: val_loss did not improve\n",
      "792/792 [==============================] - 270s - loss: 0.0033 - acc: 0.9991 - val_loss: 0.0231 - val_acc: 0.9899\n",
      "Epoch 77/100\n",
      "791/792 [============================>.] - ETA: 0s - loss: 0.0057 - acc: 0.9989Epoch 00076: val_loss did not improve\n",
      "792/792 [==============================] - 271s - loss: 0.0057 - acc: 0.9989 - val_loss: 7.3383e-04 - val_acc: 1.0000\n",
      "Epoch 78/100\n",
      "791/792 [============================>.] - ETA: 0s - loss: 0.0033 - acc: 0.9991Epoch 00077: val_loss did not improve\n",
      "792/792 [==============================] - 275s - loss: 0.0033 - acc: 0.9991 - val_loss: 0.0015 - val_acc: 1.0000\n",
      "Epoch 79/100\n",
      "791/792 [============================>.] - ETA: 0s - loss: 0.0057 - acc: 0.9987Epoch 00078: val_loss did not improve\n",
      "792/792 [==============================] - 276s - loss: 0.0057 - acc: 0.9987 - val_loss: 3.3877e-04 - val_acc: 1.0000\n",
      "Epoch 80/100\n",
      "791/792 [============================>.] - ETA: 0s - loss: 0.0044 - acc: 0.9986Epoch 00079: val_loss did not improve\n",
      "792/792 [==============================] - 276s - loss: 0.0044 - acc: 0.9986 - val_loss: 0.0020 - val_acc: 1.0000\n",
      "Epoch 81/100\n",
      "791/792 [============================>.] - ETA: 0s - loss: 0.0026 - acc: 0.9991Epoch 00080: val_loss did not improve\n",
      "792/792 [==============================] - 272s - loss: 0.0026 - acc: 0.9991 - val_loss: 0.0029 - val_acc: 1.0000\n",
      "Epoch 82/100\n",
      "791/792 [============================>.] - ETA: 0s - loss: 0.0052 - acc: 0.9988Epoch 00081: val_loss did not improve\n",
      "792/792 [==============================] - 266s - loss: 0.0052 - acc: 0.9988 - val_loss: 0.0027 - val_acc: 1.0000\n",
      "Epoch 83/100\n",
      "791/792 [============================>.] - ETA: 0s - loss: 0.0028 - acc: 0.9992Epoch 00082: val_loss improved from 0.00010 to 0.00008, saving model to leafnet.h5\n",
      "792/792 [==============================] - 250s - loss: 0.0028 - acc: 0.9992 - val_loss: 8.2112e-05 - val_acc: 1.0000\n",
      "Epoch 84/100\n",
      "791/792 [============================>.] - ETA: 0s - loss: 0.0042 - acc: 0.9988Epoch 00083: val_loss improved from 0.00008 to 0.00000, saving model to leafnet.h5\n",
      "792/792 [==============================] - 250s - loss: 0.0042 - acc: 0.9988 - val_loss: 9.6455e-07 - val_acc: 1.0000\n",
      "Epoch 85/100\n",
      "791/792 [============================>.] - ETA: 0s - loss: 0.0068 - acc: 0.9984Epoch 00084: val_loss did not improve\n",
      "792/792 [==============================] - 252s - loss: 0.0068 - acc: 0.9984 - val_loss: 1.9358e-05 - val_acc: 1.0000\n",
      "Epoch 86/100\n",
      "791/792 [============================>.] - ETA: 0s - loss: 0.0019 - acc: 0.9993Epoch 00085: val_loss did not improve\n",
      "792/792 [==============================] - 256s - loss: 0.0019 - acc: 0.9993 - val_loss: 2.1267e-04 - val_acc: 1.0000\n",
      "Epoch 87/100\n",
      "791/792 [============================>.] - ETA: 0s - loss: 0.0039 - acc: 0.9990Epoch 00086: val_loss did not improve\n",
      "792/792 [==============================] - 253s - loss: 0.0038 - acc: 0.9990 - val_loss: 0.0023 - val_acc: 1.0000\n",
      "Epoch 88/100\n",
      "791/792 [============================>.] - ETA: 0s - loss: 0.0033 - acc: 0.9991Epoch 00087: val_loss did not improve\n",
      "792/792 [==============================] - 260s - loss: 0.0033 - acc: 0.9991 - val_loss: 0.0059 - val_acc: 1.0000\n",
      "Epoch 89/100\n",
      "791/792 [============================>.] - ETA: 0s - loss: 0.0030 - acc: 0.9990Epoch 00088: val_loss did not improve\n",
      "792/792 [==============================] - 268s - loss: 0.0030 - acc: 0.9990 - val_loss: 0.0021 - val_acc: 1.0000\n",
      "Epoch 90/100\n",
      "791/792 [============================>.] - ETA: 0s - loss: 0.0033 - acc: 0.9993Epoch 00089: val_loss did not improve\n",
      "792/792 [==============================] - 264s - loss: 0.0033 - acc: 0.9993 - val_loss: 4.9245e-04 - val_acc: 1.0000\n",
      "Epoch 91/100\n",
      "791/792 [============================>.] - ETA: 0s - loss: 0.0023 - acc: 0.9991Epoch 00090: val_loss did not improve\n",
      "792/792 [==============================] - 257s - loss: 0.0023 - acc: 0.9991 - val_loss: 1.1828e-04 - val_acc: 1.0000\n",
      "Epoch 92/100\n",
      "791/792 [============================>.] - ETA: 0s - loss: 0.0028 - acc: 0.9991Epoch 00091: val_loss did not improve\n",
      "792/792 [==============================] - 257s - loss: 0.0028 - acc: 0.9991 - val_loss: 0.0022 - val_acc: 1.0000\n",
      "Epoch 93/100\n",
      "791/792 [============================>.] - ETA: 0s - loss: 0.0067 - acc: 0.9982Epoch 00092: val_loss did not improve\n",
      "792/792 [==============================] - 288s - loss: 0.0067 - acc: 0.9982 - val_loss: 2.6698e-04 - val_acc: 1.0000\n",
      "Epoch 94/100\n",
      "791/792 [============================>.] - ETA: 0s - loss: 0.0036 - acc: 0.9992Epoch 00093: val_loss did not improve\n",
      "792/792 [==============================] - 283s - loss: 0.0036 - acc: 0.9993 - val_loss: 2.0625e-04 - val_acc: 1.0000\n",
      "Epoch 95/100\n",
      "791/792 [============================>.] - ETA: 0s - loss: 0.0029 - acc: 0.9992Epoch 00094: val_loss did not improve\n",
      "792/792 [==============================] - 278s - loss: 0.0029 - acc: 0.9992 - val_loss: 7.4669e-04 - val_acc: 1.0000\n",
      "Epoch 96/100\n",
      "791/792 [============================>.] - ETA: 0s - loss: 0.0049 - acc: 0.9988Epoch 00095: val_loss did not improve\n",
      "792/792 [==============================] - 283s - loss: 0.0049 - acc: 0.9988 - val_loss: 0.0027 - val_acc: 1.0000\n",
      "Epoch 97/100\n",
      "791/792 [============================>.] - ETA: 0s - loss: 0.0067 - acc: 0.9988Epoch 00096: val_loss did not improve\n",
      "792/792 [==============================] - 276s - loss: 0.0067 - acc: 0.9988 - val_loss: 1.9081e-04 - val_acc: 1.0000\n",
      "Epoch 98/100\n",
      "791/792 [============================>.] - ETA: 0s - loss: 0.0036 - acc: 0.9989Epoch 00097: val_loss did not improve\n",
      "792/792 [==============================] - 275s - loss: 0.0036 - acc: 0.9989 - val_loss: 2.9517e-04 - val_acc: 1.0000\n",
      "Epoch 99/100\n",
      "791/792 [============================>.] - ETA: 0s - loss: 0.0026 - acc: 0.9992Epoch 00098: val_loss did not improve\n",
      "792/792 [==============================] - 279s - loss: 0.0026 - acc: 0.9993 - val_loss: 1.2358e-04 - val_acc: 1.0000\n",
      "Epoch 100/100\n",
      "791/792 [============================>.] - ETA: 0s - loss: 0.0026 - acc: 0.9991Epoch 00099: val_loss did not improve\n",
      "792/792 [==============================] - 273s - loss: 0.0026 - acc: 0.9991 - val_loss: 3.9894e-05 - val_acc: 1.0000\n",
      "Loading the best model...\n"
     ]
    },
    {
     "name": "stderr",
     "output_type": "stream",
     "text": [
      "C:\\Users\\100641313\\AppData\\Local\\Continuum\\Anaconda3\\lib\\site-packages\\keras\\engine\\topology.py:1252: UserWarning: The `Merge` layer is deprecated and will be removed after 08/2017. Use instead layers from `keras.layers.merge`, e.g. `add`, `concatenate`, etc.\n",
      "  return cls(**config)\n"
     ]
    },
    {
     "name": "stdout",
     "output_type": "stream",
     "text": [
      "Best Model loaded!\n"
     ]
    }
   ],
   "source": [
    "from keras.callbacks import ModelCheckpoint\n",
    "from keras.models import load_model\n",
    "\n",
    "\n",
    "def combined_generator(imgen, X):\n",
    "    \"\"\"\n",
    "    A generator to train our keras neural network. It\n",
    "    takes the image augmenter generator and the array\n",
    "    of the pre-extracted features.\n",
    "    It yields a minibatch and will run indefinitely\n",
    "    \"\"\"\n",
    "    while True:\n",
    "        for i in range(X.shape[0]):\n",
    "            # Get the image batch and labels\n",
    "            batch_img, batch_y = next(imgen)\n",
    "            # This is where that change to the source code we\n",
    "            # made will come in handy. We can now access the indicies\n",
    "            # of the images that imgen gave us.\n",
    "            x = X[imgen.index_array]\n",
    "            yield [batch_img, x], batch_y\n",
    "\n",
    "# autosave best Model\n",
    "best_model_file = \"leafnet.h5\"\n",
    "best_model = ModelCheckpoint(best_model_file, monitor='val_loss', verbose=1, save_best_only=True)\n",
    "\n",
    "print('Training model...')\n",
    "history = model.fit_generator(combined_generator(imgen_train, X_num_tr),\n",
    "                              samples_per_epoch=X_num_tr.shape[0],\n",
    "                              nb_epoch=100,\n",
    "                              validation_data=([X_img_val, X_num_val], y_val_cat),\n",
    "                              nb_val_samples=X_num_val.shape[0],\n",
    "                              verbose=1,\n",
    "                              callbacks=[best_model])\n",
    "\n",
    "print('Loading the best model...')\n",
    "model = load_model(best_model_file)\n",
    "print('Best Model loaded!')\n",
    "# I keyboard interupted this model when I thought it ran long enough."
   ]
  },
  {
   "cell_type": "code",
   "execution_count": 33,
   "metadata": {},
   "outputs": [
    {
     "name": "stderr",
     "output_type": "stream",
     "text": [
      "C:\\Users\\100641313\\AppData\\Local\\Continuum\\Anaconda3\\lib\\site-packages\\keras\\engine\\topology.py:1252: UserWarning: The `Merge` layer is deprecated and will be removed after 08/2017. Use instead layers from `keras.layers.merge`, e.g. `add`, `concatenate`, etc.\n",
      "  return cls(**config)\n"
     ]
    },
    {
     "ename": "AttributeError",
     "evalue": "'Model' object has no attribute 'history'",
     "output_type": "error",
     "traceback": [
      "\u001b[1;31m---------------------------------------------------------------------------\u001b[0m",
      "\u001b[1;31mAttributeError\u001b[0m                            Traceback (most recent call last)",
      "\u001b[1;32m<ipython-input-33-96cb4ee97f27>\u001b[0m in \u001b[0;36m<module>\u001b[1;34m()\u001b[0m\n\u001b[0;32m      2\u001b[0m \u001b[0mhostory\u001b[0m \u001b[1;33m=\u001b[0m \u001b[0mload_model\u001b[0m\u001b[1;33m(\u001b[0m\u001b[0mmodel_fn\u001b[0m\u001b[1;33m)\u001b[0m\u001b[1;33m\u001b[0m\u001b[0m\n\u001b[0;32m      3\u001b[0m \u001b[1;31m#history = model.history\u001b[0m\u001b[1;33m\u001b[0m\u001b[1;33m\u001b[0m\u001b[0m\n\u001b[1;32m----> 4\u001b[1;33m \u001b[0mprint\u001b[0m\u001b[1;33m(\u001b[0m\u001b[1;34m'val_acc: '\u001b[0m\u001b[1;33m,\u001b[0m\u001b[0mmax\u001b[0m\u001b[1;33m(\u001b[0m\u001b[0mhistory\u001b[0m\u001b[1;33m.\u001b[0m\u001b[0mhistory\u001b[0m\u001b[1;33m[\u001b[0m\u001b[1;34m'val_acc'\u001b[0m\u001b[1;33m]\u001b[0m\u001b[1;33m)\u001b[0m\u001b[1;33m)\u001b[0m\u001b[1;33m\u001b[0m\u001b[0m\n\u001b[0m\u001b[0;32m      5\u001b[0m \u001b[0mprint\u001b[0m\u001b[1;33m(\u001b[0m\u001b[1;34m'val_loss: '\u001b[0m\u001b[1;33m,\u001b[0m\u001b[0mmin\u001b[0m\u001b[1;33m(\u001b[0m\u001b[0mhistory\u001b[0m\u001b[1;33m.\u001b[0m\u001b[0mhistory\u001b[0m\u001b[1;33m[\u001b[0m\u001b[1;34m'val_loss'\u001b[0m\u001b[1;33m]\u001b[0m\u001b[1;33m)\u001b[0m\u001b[1;33m)\u001b[0m\u001b[1;33m\u001b[0m\u001b[0m\n\u001b[0;32m      6\u001b[0m \u001b[0mprint\u001b[0m\u001b[1;33m(\u001b[0m\u001b[1;34m'train_acc: '\u001b[0m\u001b[1;33m,\u001b[0m\u001b[0mmax\u001b[0m\u001b[1;33m(\u001b[0m\u001b[0mhistory\u001b[0m\u001b[1;33m.\u001b[0m\u001b[0mhistory\u001b[0m\u001b[1;33m[\u001b[0m\u001b[1;34m'acc'\u001b[0m\u001b[1;33m]\u001b[0m\u001b[1;33m)\u001b[0m\u001b[1;33m)\u001b[0m\u001b[1;33m\u001b[0m\u001b[0m\n",
      "\u001b[1;31mAttributeError\u001b[0m: 'Model' object has no attribute 'history'"
     ]
    }
   ],
   "source": [
    "model_fn = 'leafnet.h5'\n",
    "hostory = load_model(model_fn)\n",
    "#history = model.history\n",
    "print('val_acc: ',max(history.history['val_acc']))\n",
    "print('val_loss: ',min(history.history['val_loss']))\n",
    "print('train_acc: ',max(history.history['acc']))\n",
    "print('train_loss: ',min(history.history['loss']))\n",
    "\n",
    "print()\n",
    "print(\"train/val loss ratio: \", min(history.history['loss'])/min(history.history['val_loss']))"
   ]
  },
  {
   "cell_type": "code",
   "execution_count": 26,
   "metadata": {},
   "outputs": [
    {
     "data": {
      "image/png": "[encoded data removed]",
      "text/plain": [
       "<matplotlib.figure.Figure at 0x2a6e8faab38>"
      ]
     },
     "metadata": {},
     "output_type": "display_data"
    }
   ],
   "source": [
    "plt.semilogy(history.history['loss'])\n",
    "plt.semilogy(history.history['val_loss'])\n",
    "plt.title('model loss')\n",
    "plt.ylabel('loss')\n",
    "plt.xlabel('epoch')\n",
    "plt.legend(['train', 'test'], loc='upper left')\n",
    "plt.show()"
   ]
  },
  {
   "cell_type": "code",
   "execution_count": 27,
   "metadata": {},
   "outputs": [
    {
     "data": {
      "image/png": "[encoded data removed]",
      "text/plain": [
       "<matplotlib.figure.Figure at 0x2a6ec5a94a8>"
      ]
     },
     "metadata": {},
     "output_type": "display_data"
    }
   ],
   "source": [
    "## Plotting the error with the number of iterations\n",
    "## With each iteration the error reduces smoothly\n",
    "plt.plot(history.history['acc'])\n",
    "plt.plot(history.history['val_acc'])\n",
    "plt.title('model accuracy')\n",
    "plt.ylabel('accuracy')\n",
    "plt.xlabel('epoch')\n",
    "plt.legend(['train', 'test'], loc='upper left')\n",
    "plt.show()"
   ]
  },
  {
   "cell_type": "code",
   "execution_count": 26,
   "metadata": {},
   "outputs": [
    {
     "name": "stdout",
     "output_type": "stream",
     "text": [
      "Creating and writing submission...\n",
      "Finished writing submission\n"
     ]
    },
    {
     "data": {
      "text/html": [
       "<div>\n",
       "<style>\n",
       "    .dataframe thead tr:only-child th {\n",
       "        text-align: right;\n",
       "    }\n",
       "\n",
       "    .dataframe thead th {\n",
       "        text-align: left;\n",
       "    }\n",
       "\n",
       "    .dataframe tbody tr th {\n",
       "        vertical-align: top;\n",
       "    }\n",
       "</style>\n",
       "<table border=\"1\" class=\"dataframe\">\n",
       "  <thead>\n",
       "    <tr style=\"text-align: right;\">\n",
       "      <th></th>\n",
       "      <th>Acer_Capillipes</th>\n",
       "      <th>Acer_Circinatum</th>\n",
       "      <th>Acer_Mono</th>\n",
       "      <th>Acer_Opalus</th>\n",
       "      <th>Acer_Palmatum</th>\n",
       "      <th>Acer_Pictum</th>\n",
       "      <th>Acer_Platanoids</th>\n",
       "      <th>Acer_Rubrum</th>\n",
       "      <th>Acer_Rufinerve</th>\n",
       "      <th>Acer_Saccharinum</th>\n",
       "      <th>...</th>\n",
       "      <th>Salix_Fragilis</th>\n",
       "      <th>Salix_Intergra</th>\n",
       "      <th>Sorbus_Aria</th>\n",
       "      <th>Tilia_Oliveri</th>\n",
       "      <th>Tilia_Platyphyllos</th>\n",
       "      <th>Tilia_Tomentosa</th>\n",
       "      <th>Ulmus_Bergmanniana</th>\n",
       "      <th>Viburnum_Tinus</th>\n",
       "      <th>Viburnum_x_Rhytidophylloides</th>\n",
       "      <th>Zelkova_Serrata</th>\n",
       "    </tr>\n",
       "    <tr>\n",
       "      <th>id</th>\n",
       "      <th></th>\n",
       "      <th></th>\n",
       "      <th></th>\n",
       "      <th></th>\n",
       "      <th></th>\n",
       "      <th></th>\n",
       "      <th></th>\n",
       "      <th></th>\n",
       "      <th></th>\n",
       "      <th></th>\n",
       "      <th></th>\n",
       "      <th></th>\n",
       "      <th></th>\n",
       "      <th></th>\n",
       "      <th></th>\n",
       "      <th></th>\n",
       "      <th></th>\n",
       "      <th></th>\n",
       "      <th></th>\n",
       "      <th></th>\n",
       "      <th></th>\n",
       "    </tr>\n",
       "  </thead>\n",
       "  <tbody>\n",
       "    <tr>\n",
       "      <th>1576</th>\n",
       "      <td>0.000000e+00</td>\n",
       "      <td>1.000000e+00</td>\n",
       "      <td>2.877529e-35</td>\n",
       "      <td>0.000000e+00</td>\n",
       "      <td>1.720206e-19</td>\n",
       "      <td>0.000000e+00</td>\n",
       "      <td>0.000000e+00</td>\n",
       "      <td>0.000000e+00</td>\n",
       "      <td>0.000000e+00</td>\n",
       "      <td>3.980666e-33</td>\n",
       "      <td>...</td>\n",
       "      <td>0.000000e+00</td>\n",
       "      <td>0.000000e+00</td>\n",
       "      <td>0.000000e+00</td>\n",
       "      <td>0.000000e+00</td>\n",
       "      <td>0.000000e+00</td>\n",
       "      <td>0.000000e+00</td>\n",
       "      <td>0.000000e+00</td>\n",
       "      <td>0.0</td>\n",
       "      <td>0.000000e+00</td>\n",
       "      <td>8.924488e-26</td>\n",
       "    </tr>\n",
       "    <tr>\n",
       "      <th>1577</th>\n",
       "      <td>2.876829e-33</td>\n",
       "      <td>1.640388e-32</td>\n",
       "      <td>0.000000e+00</td>\n",
       "      <td>7.696343e-29</td>\n",
       "      <td>1.480663e-38</td>\n",
       "      <td>0.000000e+00</td>\n",
       "      <td>9.277454e-33</td>\n",
       "      <td>9.178005e-27</td>\n",
       "      <td>1.198145e-15</td>\n",
       "      <td>0.000000e+00</td>\n",
       "      <td>...</td>\n",
       "      <td>2.010435e-33</td>\n",
       "      <td>0.000000e+00</td>\n",
       "      <td>4.214315e-17</td>\n",
       "      <td>8.199048e-32</td>\n",
       "      <td>1.903163e-14</td>\n",
       "      <td>1.228189e-20</td>\n",
       "      <td>6.287867e-32</td>\n",
       "      <td>0.0</td>\n",
       "      <td>1.625917e-38</td>\n",
       "      <td>4.710042e-32</td>\n",
       "    </tr>\n",
       "    <tr>\n",
       "      <th>1579</th>\n",
       "      <td>5.343847e-29</td>\n",
       "      <td>0.000000e+00</td>\n",
       "      <td>0.000000e+00</td>\n",
       "      <td>0.000000e+00</td>\n",
       "      <td>4.089142e-33</td>\n",
       "      <td>6.137633e-35</td>\n",
       "      <td>0.000000e+00</td>\n",
       "      <td>0.000000e+00</td>\n",
       "      <td>0.000000e+00</td>\n",
       "      <td>5.892090e-27</td>\n",
       "      <td>...</td>\n",
       "      <td>0.000000e+00</td>\n",
       "      <td>0.000000e+00</td>\n",
       "      <td>0.000000e+00</td>\n",
       "      <td>0.000000e+00</td>\n",
       "      <td>0.000000e+00</td>\n",
       "      <td>0.000000e+00</td>\n",
       "      <td>0.000000e+00</td>\n",
       "      <td>0.0</td>\n",
       "      <td>0.000000e+00</td>\n",
       "      <td>0.000000e+00</td>\n",
       "    </tr>\n",
       "    <tr>\n",
       "      <th>1580</th>\n",
       "      <td>0.000000e+00</td>\n",
       "      <td>0.000000e+00</td>\n",
       "      <td>0.000000e+00</td>\n",
       "      <td>0.000000e+00</td>\n",
       "      <td>6.468535e-25</td>\n",
       "      <td>0.000000e+00</td>\n",
       "      <td>8.007949e-34</td>\n",
       "      <td>0.000000e+00</td>\n",
       "      <td>0.000000e+00</td>\n",
       "      <td>0.000000e+00</td>\n",
       "      <td>...</td>\n",
       "      <td>2.331627e-35</td>\n",
       "      <td>1.309706e-36</td>\n",
       "      <td>0.000000e+00</td>\n",
       "      <td>1.082371e-25</td>\n",
       "      <td>0.000000e+00</td>\n",
       "      <td>0.000000e+00</td>\n",
       "      <td>8.685652e-34</td>\n",
       "      <td>0.0</td>\n",
       "      <td>0.000000e+00</td>\n",
       "      <td>0.000000e+00</td>\n",
       "    </tr>\n",
       "    <tr>\n",
       "      <th>1583</th>\n",
       "      <td>0.000000e+00</td>\n",
       "      <td>7.650414e-37</td>\n",
       "      <td>0.000000e+00</td>\n",
       "      <td>0.000000e+00</td>\n",
       "      <td>0.000000e+00</td>\n",
       "      <td>2.747484e-29</td>\n",
       "      <td>0.000000e+00</td>\n",
       "      <td>0.000000e+00</td>\n",
       "      <td>0.000000e+00</td>\n",
       "      <td>0.000000e+00</td>\n",
       "      <td>...</td>\n",
       "      <td>0.000000e+00</td>\n",
       "      <td>0.000000e+00</td>\n",
       "      <td>0.000000e+00</td>\n",
       "      <td>0.000000e+00</td>\n",
       "      <td>0.000000e+00</td>\n",
       "      <td>0.000000e+00</td>\n",
       "      <td>0.000000e+00</td>\n",
       "      <td>0.0</td>\n",
       "      <td>0.000000e+00</td>\n",
       "      <td>0.000000e+00</td>\n",
       "    </tr>\n",
       "  </tbody>\n",
       "</table>\n",
       "<p>5 rows × 99 columns</p>\n",
       "</div>"
      ],
      "text/plain": [
       "      Acer_Capillipes  Acer_Circinatum     Acer_Mono   Acer_Opalus  \\\n",
       "id                                                                   \n",
       "1576     0.000000e+00     1.000000e+00  2.877529e-35  0.000000e+00   \n",
       "1577     2.876829e-33     1.640388e-32  0.000000e+00  7.696343e-29   \n",
       "1579     5.343847e-29     0.000000e+00  0.000000e+00  0.000000e+00   \n",
       "1580     0.000000e+00     0.000000e+00  0.000000e+00  0.000000e+00   \n",
       "1583     0.000000e+00     7.650414e-37  0.000000e+00  0.000000e+00   \n",
       "\n",
       "      Acer_Palmatum   Acer_Pictum  Acer_Platanoids   Acer_Rubrum  \\\n",
       "id                                                                 \n",
       "1576   1.720206e-19  0.000000e+00     0.000000e+00  0.000000e+00   \n",
       "1577   1.480663e-38  0.000000e+00     9.277454e-33  9.178005e-27   \n",
       "1579   4.089142e-33  6.137633e-35     0.000000e+00  0.000000e+00   \n",
       "1580   6.468535e-25  0.000000e+00     8.007949e-34  0.000000e+00   \n",
       "1583   0.000000e+00  2.747484e-29     0.000000e+00  0.000000e+00   \n",
       "\n",
       "      Acer_Rufinerve  Acer_Saccharinum       ...         Salix_Fragilis  \\\n",
       "id                                           ...                          \n",
       "1576    0.000000e+00      3.980666e-33       ...           0.000000e+00   \n",
       "1577    1.198145e-15      0.000000e+00       ...           2.010435e-33   \n",
       "1579    0.000000e+00      5.892090e-27       ...           0.000000e+00   \n",
       "1580    0.000000e+00      0.000000e+00       ...           2.331627e-35   \n",
       "1583    0.000000e+00      0.000000e+00       ...           0.000000e+00   \n",
       "\n",
       "      Salix_Intergra   Sorbus_Aria  Tilia_Oliveri  Tilia_Platyphyllos  \\\n",
       "id                                                                      \n",
       "1576    0.000000e+00  0.000000e+00   0.000000e+00        0.000000e+00   \n",
       "1577    0.000000e+00  4.214315e-17   8.199048e-32        1.903163e-14   \n",
       "1579    0.000000e+00  0.000000e+00   0.000000e+00        0.000000e+00   \n",
       "1580    1.309706e-36  0.000000e+00   1.082371e-25        0.000000e+00   \n",
       "1583    0.000000e+00  0.000000e+00   0.000000e+00        0.000000e+00   \n",
       "\n",
       "      Tilia_Tomentosa  Ulmus_Bergmanniana  Viburnum_Tinus  \\\n",
       "id                                                          \n",
       "1576     0.000000e+00        0.000000e+00             0.0   \n",
       "1577     1.228189e-20        6.287867e-32             0.0   \n",
       "1579     0.000000e+00        0.000000e+00             0.0   \n",
       "1580     0.000000e+00        8.685652e-34             0.0   \n",
       "1583     0.000000e+00        0.000000e+00             0.0   \n",
       "\n",
       "      Viburnum_x_Rhytidophylloides  Zelkova_Serrata  \n",
       "id                                                   \n",
       "1576                  0.000000e+00     8.924488e-26  \n",
       "1577                  1.625917e-38     4.710042e-32  \n",
       "1579                  0.000000e+00     0.000000e+00  \n",
       "1580                  0.000000e+00     0.000000e+00  \n",
       "1583                  0.000000e+00     0.000000e+00  \n",
       "\n",
       "[5 rows x 99 columns]"
      ]
     },
     "execution_count": 26,
     "metadata": {},
     "output_type": "execute_result"
    }
   ],
   "source": [
    "# Get the names of the column headers\n",
    "LABELS = sorted(pd.read_csv(\"train.csv\").species.unique())\n",
    "\n",
    "index, test, X_img_te = load_test_data()\n",
    "\n",
    "yPred_proba = model.predict([X_img_te, test])\n",
    "\n",
    "# Converting the test predictions in a dataframe as depicted by sample submission\n",
    "yPred = pd.DataFrame(yPred_proba,index=index,columns=LABELS)\n",
    "\n",
    "print('Creating and writing submission...')\n",
    "fp = open('submit.csv', 'w')\n",
    "fp.write(yPred.to_csv())\n",
    "print('Finished writing submission')\n",
    "# Display the submission\n",
    "yPred.tail()"
   ]
  },
  {
   "cell_type": "markdown",
   "metadata": {},
   "source": [
    "# Visualization"
   ]
  },
  {
   "cell_type": "code",
   "execution_count": 27,
   "metadata": {},
   "outputs": [
    {
     "name": "stderr",
     "output_type": "stream",
     "text": [
      "C:\\Users\\100641313\\AppData\\Local\\Continuum\\Anaconda3\\lib\\site-packages\\keras\\engine\\topology.py:1252: UserWarning: The `Merge` layer is deprecated and will be removed after 08/2017. Use instead layers from `keras.layers.merge`, e.g. `add`, `concatenate`, etc.\n",
      "  return cls(**config)\n"
     ]
    },
    {
     "name": "stdout",
     "output_type": "stream",
     "text": [
      "Top 3 Predicitons:\n",
      "\tAcer_Mono: 1.0\n",
      "\tMagnolia_Salicifolia: 7.25413e-22\n",
      "\tIlex_Cornuta: 3.5505e-25\n",
      "\n",
      "Actual: Acer_Mono\n"
     ]
    },
    {
     "data": {
      "image/png": "[encoded data removed]",
      "text/plain": [
       "<matplotlib.figure.Figure at 0x13546d9e0f0>"
      ]
     },
     "metadata": {},
     "output_type": "display_data"
    },
    {
     "name": "stdout",
     "output_type": "stream",
     "text": [
      "Visualizing Convolutions Layer 0\n"
     ]
    },
    {
     "data": {
      "image/png": "[encoded data removed]",
      "text/plain": [
       "<matplotlib.figure.Figure at 0x13547a36a20>"
      ]
     },
     "metadata": {},
     "output_type": "display_data"
    },
    {
     "name": "stdout",
     "output_type": "stream",
     "text": [
      "Visualizing Convolutions Layer 1\n"
     ]
    },
    {
     "data": {
      "image/png": "[encoded data removed]",
      "text/plain": [
       "<matplotlib.figure.Figure at 0x13547a31630>"
      ]
     },
     "metadata": {},
     "output_type": "display_data"
    },
    {
     "name": "stdout",
     "output_type": "stream",
     "text": [
      "Top 3 Predicitons:\n",
      "\tQuercus_Afares: 1.0\n",
      "\tQuercus_Trojana: 3.72187e-21\n",
      "\tPrunus_Avium: 2.01649e-22\n",
      "\n",
      "Actual: Quercus_Afares\n"
     ]
    },
    {
     "data": {
      "image/png": "[encoded data removed]",
      "text/plain": [
       "<matplotlib.figure.Figure at 0x13548a55a90>"
      ]
     },
     "metadata": {},
     "output_type": "display_data"
    },
    {
     "name": "stdout",
     "output_type": "stream",
     "text": [
      "Visualizing Convolutions Layer 0\n"
     ]
    },
    {
     "data": {
      "image/png": "[encoded data removed]",
      "text/plain": [
       "<matplotlib.figure.Figure at 0x135496c3128>"
      ]
     },
     "metadata": {},
     "output_type": "display_data"
    },
    {
     "name": "stdout",
     "output_type": "stream",
     "text": [
      "Visualizing Convolutions Layer 1\n"
     ]
    },
    {
     "data": {
      "image/png": "[encoded data removed]",
      "text/plain": [
       "<matplotlib.figure.Figure at 0x1354c0db2b0>"
      ]
     },
     "metadata": {},
     "output_type": "display_data"
    },
    {
     "name": "stdout",
     "output_type": "stream",
     "text": [
      "Top 3 Predicitons:\n",
      "\tQuercus_Chrysolepis: 1.0\n",
      "\tPopulus_Adenopoda: 1.09575e-28\n",
      "\tMagnolia_Salicifolia: 2.40316e-30\n",
      "\n",
      "Actual: Quercus_Chrysolepis\n"
     ]
    },
    {
     "data": {
      "image/png": "[encoded data removed]",
      "text/plain": [
       "<matplotlib.figure.Figure at 0x1354d9590b8>"
      ]
     },
     "metadata": {},
     "output_type": "display_data"
    },
    {
     "name": "stdout",
     "output_type": "stream",
     "text": [
      "Visualizing Convolutions Layer 0\n"
     ]
    },
    {
     "data": {
      "image/png": "[encoded data removed]",
      "text/plain": [
       "<matplotlib.figure.Figure at 0x1354d4b7550>"
      ]
     },
     "metadata": {},
     "output_type": "display_data"
    },
    {
     "name": "stdout",
     "output_type": "stream",
     "text": [
      "Visualizing Convolutions Layer 1\n"
     ]
    },
    {
     "data": {
      "image/png": "[encoded data removed]",
      "text/plain": [
       "<matplotlib.figure.Figure at 0x1354b7b9e48>"
      ]
     },
     "metadata": {},
     "output_type": "display_data"
    }
   ],
   "source": [
    "from math import sqrt\n",
    "\n",
    "import matplotlib.pyplot as plt\n",
    "from keras import backend as K\n",
    "from keras.models import Model\n",
    "from keras.layers import Dense, Dropout, Activation, Convolution2D, MaxPooling2D, Flatten, Input, merge\n",
    "from keras.models import load_model\n",
    "\n",
    "NUM_LEAVES = 3\n",
    "model_fn = 'leafnet.h5'\n",
    "\n",
    "# Function by gcalmettes from http://stackoverflow.com/questions/11159436/multiple-figures-in-a-single-window\n",
    "def plot_figures(figures, nrows = 1, ncols=1, titles=False):\n",
    "    \"\"\"Plot a dictionary of figures.\n",
    "\n",
    "    Parameters\n",
    "    ----------\n",
    "    figures : <title, figure> dictionary\n",
    "    ncols : number of columns of subplots wanted in the display\n",
    "    nrows : number of rows of subplots wanted in the figure\n",
    "    \"\"\"\n",
    "\n",
    "    fig, axeslist = plt.subplots(ncols=ncols, nrows=nrows)\n",
    "    for ind,title in enumerate(sorted(figures.keys(), key=lambda s: int(s[3:]))):\n",
    "        axeslist.ravel()[ind].imshow(figures[title], cmap=plt.gray())\n",
    "        if titles:\n",
    "            axeslist.ravel()[ind].set_title(title)\n",
    "\n",
    "    for ind in range(nrows*ncols):\n",
    "        axeslist.ravel()[ind].set_axis_off()\n",
    "\n",
    "    if titles:\n",
    "        plt.tight_layout()\n",
    "    plt.show()\n",
    "\n",
    "\n",
    "def get_dim(num):\n",
    "    \"\"\"\n",
    "    Simple function to get the dimensions of a square-ish shape for plotting\n",
    "    num images\n",
    "    \"\"\"\n",
    "\n",
    "    s = sqrt(num)\n",
    "    if round(s) < s:\n",
    "        return (int(s), int(s)+1)\n",
    "    else:\n",
    "        return (int(s)+1, int(s)+1)\n",
    "\n",
    "# Load the best model\n",
    "model = load_model(model_fn)\n",
    "\n",
    "# Get the convolutional layers\n",
    "conv_layers = [layer for layer in model.layers if isinstance(layer, MaxPooling2D)]\n",
    "\n",
    "# Pick random images to visualize\n",
    "imgs_to_visualize = np.random.choice(np.arange(0, len(X_img_val)), NUM_LEAVES)\n",
    "\n",
    "# Use a keras function to extract the conv layer data\n",
    "convout_func = K.function([model.layers[0].input, K.learning_phase()], [layer.output for layer in conv_layers])\n",
    "conv_imgs_filts = convout_func([X_img_val[imgs_to_visualize], 0])\n",
    "# Also get the prediction so we know what we predicted\n",
    "predictions = model.predict([X_img_val[imgs_to_visualize], X_num_val[imgs_to_visualize]])\n",
    "\n",
    "imshow = plt.imshow #alias\n",
    "# Loop through each image disply relevant info\n",
    "for img_count, img_to_visualize in enumerate(imgs_to_visualize):\n",
    "\n",
    "    # Get top 3 predictions\n",
    "    top3_ind = predictions[img_count].argsort()[-3:]\n",
    "    top3_species = np.array(LABELS)[top3_ind]\n",
    "    top3_preds = predictions[img_count][top3_ind]\n",
    "\n",
    "    # Get the actual leaf species\n",
    "    actual = LABELS[y_val[img_to_visualize]]\n",
    "\n",
    "    # Display the top 3 predictions and the actual species\n",
    "    print(\"Top 3 Predicitons:\")\n",
    "    for i in range(2, -1, -1):\n",
    "        print(\"\\t%s: %s\" % (top3_species[i], top3_preds[i]))\n",
    "    print(\"\\nActual: %s\" % actual)\n",
    "\n",
    "    # Show the original image\n",
    "    plt.title(\"Image used: #%d (digit=%d)\" % (img_to_visualize, y_val[img_to_visualize]))\n",
    "    # For Theano users comment the line below and\n",
    "    imshow(X_img_val[img_to_visualize][:, :, 0], cmap='gray')\n",
    "    # imshow(X_img_val[img_to_visualize][0], cmap='gray') # uncomment this\n",
    "    plt.tight_layout()\n",
    "    plt.show()\n",
    "\n",
    "    # Plot the filter images\n",
    "    for i, conv_imgs_filt in enumerate(conv_imgs_filts):\n",
    "        conv_img_filt = conv_imgs_filt[img_count]\n",
    "        print(\"Visualizing Convolutions Layer %d\" % i)\n",
    "        # Get it ready for the plot_figures function\n",
    "        # For Theano users comment the line below and\n",
    "        fig_dict = {'flt{0}'.format(i): conv_img_filt[:, :, i] for i in range(conv_img_filt.shape[-1])}\n",
    "        # fig_dict = {'flt{0}'.format(i): conv_img_filt[i] for i in range(conv_img_filt.shape[-1])} # uncomment this\n",
    "        plot_figures(fig_dict, *get_dim(len(fig_dict)))"
   ]
  },
  {
   "cell_type": "code",
   "execution_count": null,
   "metadata": {
    "collapsed": true
   },
   "outputs": [],
   "source": []
  },
  {
   "cell_type": "code",
   "execution_count": 40,
   "metadata": {},
   "outputs": [
    {
     "name": "stderr",
     "output_type": "stream",
     "text": [
      "C:\\Users\\100641313\\AppData\\Local\\Continuum\\Anaconda3\\lib\\site-packages\\sklearn\\preprocessing\\data.py:586: DeprecationWarning: Passing 1d arrays as data is deprecated in 0.17 and will raise ValueError in 0.19. Reshape your data either using X.reshape(-1, 1) if your data has a single feature or X.reshape(1, -1) if it contains a single sample.\n",
      "  warnings.warn(DEPRECATION_MSG_1D, DeprecationWarning)\n",
      "C:\\Users\\100641313\\AppData\\Local\\Continuum\\Anaconda3\\lib\\site-packages\\sklearn\\preprocessing\\data.py:649: DeprecationWarning: Passing 1d arrays as data is deprecated in 0.17 and will raise ValueError in 0.19. Reshape your data either using X.reshape(-1, 1) if your data has a single feature or X.reshape(1, -1) if it contains a single sample.\n",
      "  warnings.warn(DEPRECATION_MSG_1D, DeprecationWarning)\n"
     ]
    },
    {
     "data": {
      "text/plain": [
       "array([-0.57889218, -0.57657893, -0.57657893,  1.73205004])"
      ]
     },
     "execution_count": 40,
     "metadata": {},
     "output_type": "execute_result"
    }
   ],
   "source": [
    "from sklearn import preprocessing\n",
    "le = preprocessing.LabelEncoder()\n",
    "le.fit([1, 2, 2, 6])\n",
    "LabelEncoder().fit([1, 2, 2, 6]).transform([1, 2, 2, 6])\n",
    "StandardScaler().fit([1, 2, 2, 1000]).transform([1, 2, 2, 1000])"
   ]
  },
  {
   "cell_type": "code",
   "execution_count": 51,
   "metadata": {},
   "outputs": [
    {
     "name": "stdout",
     "output_type": "stream",
     "text": [
      "StandardScaler(copy=True, with_mean=True, with_std=True)\n"
     ]
    }
   ],
   "source": [
    "data = [[0, 0], [0, 0], [1, 1], [1, 1]]\n",
    "l = StandardScaler().fit(data)\n",
    "print(l)"
   ]
  },
  {
   "cell_type": "code",
   "execution_count": 3,
   "metadata": {},
   "outputs": [
    {
     "ename": "NameError",
     "evalue": "name 'load_test_data' is not defined",
     "output_type": "error",
     "traceback": [
      "\u001b[1;31m---------------------------------------------------------------------------\u001b[0m",
      "\u001b[1;31mNameError\u001b[0m                                 Traceback (most recent call last)",
      "\u001b[1;32m<ipython-input-3-658579421a20>\u001b[0m in \u001b[0;36m<module>\u001b[1;34m()\u001b[0m\n\u001b[0;32m      2\u001b[0m \u001b[0mLABELS\u001b[0m \u001b[1;33m=\u001b[0m \u001b[0msorted\u001b[0m\u001b[1;33m(\u001b[0m\u001b[0mpd\u001b[0m\u001b[1;33m.\u001b[0m\u001b[0mread_csv\u001b[0m\u001b[1;33m(\u001b[0m\u001b[1;34m\"train.csv\"\u001b[0m\u001b[1;33m)\u001b[0m\u001b[1;33m.\u001b[0m\u001b[0mspecies\u001b[0m\u001b[1;33m.\u001b[0m\u001b[0munique\u001b[0m\u001b[1;33m(\u001b[0m\u001b[1;33m)\u001b[0m\u001b[1;33m)\u001b[0m\u001b[1;33m\u001b[0m\u001b[0m\n\u001b[0;32m      3\u001b[0m \u001b[1;33m\u001b[0m\u001b[0m\n\u001b[1;32m----> 4\u001b[1;33m \u001b[0mindex\u001b[0m\u001b[1;33m,\u001b[0m \u001b[0mtest\u001b[0m\u001b[1;33m,\u001b[0m \u001b[0mX_img_te\u001b[0m \u001b[1;33m=\u001b[0m \u001b[0mload_test_data\u001b[0m\u001b[1;33m(\u001b[0m\u001b[1;33m)\u001b[0m\u001b[1;33m\u001b[0m\u001b[0m\n\u001b[0m\u001b[0;32m      5\u001b[0m \u001b[1;33m\u001b[0m\u001b[0m\n\u001b[0;32m      6\u001b[0m \u001b[0myPred_proba\u001b[0m \u001b[1;33m=\u001b[0m \u001b[0mmodel\u001b[0m\u001b[1;33m.\u001b[0m\u001b[0mpredict\u001b[0m\u001b[1;33m(\u001b[0m\u001b[1;33m[\u001b[0m\u001b[0mX_img_te\u001b[0m\u001b[1;33m]\u001b[0m\u001b[1;33m)\u001b[0m\u001b[1;33m\u001b[0m\u001b[0m\n",
      "\u001b[1;31mNameError\u001b[0m: name 'load_test_data' is not defined"
     ]
    }
   ],
   "source": [
    "# Get the names of the column headers\n",
    "LABELS = sorted(pd.read_csv(\"train.csv\").species.unique())\n",
    "\n",
    "index, test, X_img_te = load_test_data()\n",
    "\n",
    "yPred_proba = model.predict([X_img_te])\n",
    "\n",
    "# Converting the test predictions in a dataframe as depicted by sample submission\n",
    "yPred = pd.DataFrame(yPred_proba,index=index,columns=LABELS)\n",
    "\n",
    "print('Creating and writing submission...')\n",
    "fp = open('submit2.csv', 'w')\n",
    "fp.write(yPred.to_csv())\n",
    "print('Finished writing submission')\n",
    "# Display the submission\n",
    "yPred.head()\n",
    "print(X_img_te.shape)\n",
    "print(test.shape)"
   ]
  },
  {
   "cell_type": "code",
   "execution_count": null,
   "metadata": {
    "collapsed": true
   },
   "outputs": [],
   "source": []
  }
 ],
 "metadata": {
  "kernelspec": {
   "display_name": "Python 3",
   "language": "python",
   "name": "python3"
  },
  "language_info": {
   "codemirror_mode": {
    "name": "ipython",
    "version": 3
   },
   "file_extension": ".py",
   "mimetype": "text/x-python",
   "name": "python",
   "nbconvert_exporter": "python",
   "pygments_lexer": "ipython3",
   "version": "3.6.1"
  }
 },
 "nbformat": 4,
 "nbformat_minor": 2
}
