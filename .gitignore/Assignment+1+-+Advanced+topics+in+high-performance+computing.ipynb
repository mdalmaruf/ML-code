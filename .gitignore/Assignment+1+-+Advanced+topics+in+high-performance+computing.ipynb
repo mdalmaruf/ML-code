{
 "cells": [
  {
   "cell_type": "markdown",
   "metadata": {},
   "source": [
    "# importing the library"
   ]
  },
  {
   "cell_type": "code",
   "execution_count": 2,
   "metadata": {},
   "outputs": [
    {
     "name": "stdout",
     "output_type": "stream",
     "text": [
      "California housing dataset.\n",
      "\n",
      "The original database is available from StatLib\n",
      "\n",
      "    http://lib.stat.cmu.edu/\n",
      "\n",
      "The data contains 20,640 observations on 9 variables.\n",
      "\n",
      "This dataset contains the average house value as target variable\n",
      "and the following input variables (features): average income,\n",
      "housing average age, average rooms, average bedrooms, population,\n",
      "average occupation, latitude, and longitude in that order.\n",
      "\n",
      "References\n",
      "----------\n",
      "\n",
      "Pace, R. Kelley and Ronald Barry, Sparse Spatial Autoregressions,\n",
      "Statistics and Probability Letters, 33 (1997) 291-297.\n",
      "\n",
      "\n"
     ]
    }
   ],
   "source": [
    "# import os\n",
    "import numpy as np\n",
    "import scipy\n",
    "import matplotlib.pyplot as plt\n",
    "%matplotlib inline\n",
    "import time\n",
    "import pylab as pl\n",
    "import pandas as pd\n",
    "from IPython import display\n",
    "from numpy import loadtxt, zeros, ones, array, linspace, logspace\n",
    "from pylab import scatter, show, title, xlabel, ylabel, plot, contour\n",
    "plt.style.use('ggplot')\n",
    "\n",
    "#Load the dataset\n",
    "#data = loadtxt('cal_housing.data', delimiter=',')\n",
    "import sklearn.datasets as ds\n",
    "dataset = ds.fetch_california_housing()\n",
    "dataset.keys()\n",
    "print(dataset.DESCR)"
   ]
  },
  {
   "cell_type": "markdown",
   "metadata": {},
   "source": [
    "# Loading the dataset into x and y"
   ]
  },
  {
   "cell_type": "code",
   "execution_count": 3,
   "metadata": {},
   "outputs": [
    {
     "name": "stdout",
     "output_type": "stream",
     "text": [
      "(20640, 8)\n",
      "(20640,)\n"
     ]
    }
   ],
   "source": [
    "X = dataset.data\n",
    "y = dataset.target\n",
    "\n",
    "print(X.shape)\n",
    "print(y.shape)"
   ]
  },
  {
   "cell_type": "markdown",
   "metadata": {},
   "source": [
    "# Split the dataset into training, validation, and testing"
   ]
  },
  {
   "cell_type": "code",
   "execution_count": 3,
   "metadata": {},
   "outputs": [
    {
     "name": "stdout",
     "output_type": "stream",
     "text": [
      "X_train:  (16512, 8)\n",
      "X_test (4128, 8)\n",
      "X_train:  (13209, 8)\n",
      "X val: (3303, 8)\n",
      "X_test (4128, 8)\n",
      "Mean: [3.8757610947081536, 28.663259898554017, 5.3942099746517274, 1.0902544561344014, 1428.2276478158831, 2.9865729726270054, 35.631857824210762, -119.57016352486941]\n",
      "Max: [11.124338905291847, 23.336740101445983, 47.454004311062555, 10.320459829579885, 27137.772352184118, 499.47496548891144, 6.3181421757892409, 5.2601635248694123]\n"
     ]
    }
   ],
   "source": [
    "#from sklearn.cross_validation import train_test_split\n",
    "from sklearn.utils import shuffle\n",
    "\n",
    "X, y = shuffle(X, y)\n",
    "\n",
    "X_train = X[0:16512,]\n",
    "X_test  = X[16512:,]\n",
    "y_train = y[0:16512]\n",
    "y_test  = y[16512:]\n",
    "\n",
    "X_train1, y_train1 = shuffle(X_train, y_train)\n",
    "\n",
    "print('X_train: ', X_train.shape)\n",
    "print('X_test', X_test.shape) \n",
    "\n",
    "X_train = X_train1[0:13209,]\n",
    "X_val   = X_train1[13209:,]\n",
    "y_train = y_train1[0:13209]\n",
    "y_val   = y_train1[13209:]\n",
    "\n",
    "print('X_train: ', X_train.shape)\n",
    "print('X val:', X_val.shape)\n",
    "print('X_test', X_test.shape)\n",
    "mean_x = []\n",
    "max_x  = []\n",
    "\n",
    "n_c = X_train.shape[1]\n",
    "\n",
    "# Mean and scaling for training set\n",
    "for i in range(n_c):\n",
    "    m = np.mean(X_train[:, i])\n",
    "    X_train[:,i] -= m\n",
    "    mean_x.append(m)\n",
    "    \n",
    "    s = np.max(X_train[:, i])\n",
    "    \n",
    "    X_train[:,i] /= s\n",
    "    max_x.append(s)\n",
    "\n",
    "print('Mean:', mean_x)\n",
    "print('Max:', max_x)\n",
    "\n",
    "# Mean and scaling for test set\n",
    "for i in range(n_c):\n",
    "    X_val -= mean_x[i]\n",
    "    X_val /= max_x[i]\n",
    "    X_test[:,i] -= mean_x[i]    \n",
    "    X_test[:,i] /= max_x[i]"
   ]
  },
  {
   "cell_type": "markdown",
   "metadata": {},
   "source": [
    "# Adding the bias for training and testing "
   ]
  },
  {
   "cell_type": "code",
   "execution_count": 4,
   "metadata": {},
   "outputs": [
    {
     "name": "stdout",
     "output_type": "stream",
     "text": [
      "(13209, 9)\n",
      "(3303, 9)\n",
      "(4128, 9)\n"
     ]
    }
   ],
   "source": [
    "bias_train= np.ones((len(X_train), 1))\n",
    "X_train = np.hstack((bias_train, X_train))\n",
    "print(X_train.shape)\n",
    "\n",
    "bias_val = np.ones((len(X_val), 1))\n",
    "X_val = np.hstack((bias_val, X_val))\n",
    "print(X_val.shape)\n",
    "\n",
    "bias_test= np.ones((len(X_test), 1))\n",
    "X_test = np.hstack((bias_test, X_test))\n",
    "print(X_test.shape)"
   ]
  },
  {
   "cell_type": "markdown",
   "metadata": {},
   "source": [
    "# Cost function"
   ]
  },
  {
   "cell_type": "code",
   "execution_count": 5,
   "metadata": {
    "collapsed": true
   },
   "outputs": [],
   "source": [
    "def cost_function(X, Y , theta):\n",
    "    # Predict\n",
    "    predections = np.dot(X, theta)\n",
    "    \n",
    "    # Compute Cost\n",
    "    Cost = np.sqrt((1/len(X)) * np.sum((Y - predections)**2))\n",
    "\n",
    "    return Cost "
   ]
  },
  {
   "cell_type": "markdown",
   "metadata": {},
   "source": [
    "# Normal Equation"
   ]
  },
  {
   "cell_type": "code",
   "execution_count": 6,
   "metadata": {
    "collapsed": true
   },
   "outputs": [],
   "source": [
    "def normalequation(X, y, delta):\n",
    "    deltaI = delta * np.identity((9))\n",
    "    deltaI[0] =  0\n",
    "    \n",
    "    XtX    = np.dot(X.T, X)\n",
    "    XtY    = np.dot(X.T, y)\n",
    "    invXdelta = np.linalg.inv((XtX + deltaI)) \n",
    "\n",
    "    theta = np.dot(invXdelta, XtY)\n",
    "        \n",
    "    return theta"
   ]
  },
  {
   "cell_type": "markdown",
   "metadata": {},
   "source": [
    "# Using Normal Equation "
   ]
  },
  {
   "cell_type": "code",
   "execution_count": 7,
   "metadata": {},
   "outputs": [
    {
     "name": "stdout",
     "output_type": "stream",
     "text": [
      "Delta Value: 1e-20\n",
      "(13209, 9)\n",
      "Normal Equation\n",
      "[ 2.07443752  4.95030155  0.21792456 -6.35847647  8.59224721 -0.0784955\n",
      " -3.972301   -2.69369356 -2.33194088]\n",
      "******************************************************\n",
      "Delta Value: 1e-18\n",
      "(13209, 9)\n",
      "Normal Equation\n",
      "[ 2.07443752  4.95030155  0.21792456 -6.35847647  8.59224721 -0.0784955\n",
      " -3.972301   -2.69369356 -2.33194088]\n",
      "******************************************************\n",
      "Delta Value: 1e-14\n",
      "(13209, 9)\n",
      "Normal Equation\n",
      "[ 2.07443752  4.95030155  0.21792456 -6.35847647  8.59224721 -0.0784955\n",
      " -3.972301   -2.69369356 -2.33194088]\n",
      "******************************************************\n",
      "Delta Value: 1e-07\n",
      "(13209, 9)\n",
      "Normal Equation\n",
      "[ 2.07443752  4.95030151  0.21792456 -6.3584761   8.59224679 -0.0784955\n",
      " -3.97230067 -2.69369358 -2.33194089]\n",
      "******************************************************\n",
      "Delta Value: 0.001\n",
      "(13209, 9)\n",
      "Normal Equation\n",
      "[ 2.07443752  4.94982668  0.2179255  -6.35475726  8.58808202 -0.07854141\n",
      " -3.96897707 -2.69383218 -2.33203553]\n",
      "******************************************************\n",
      "Delta Value: 0.01\n",
      "(13209, 9)\n",
      "Normal Equation\n",
      "[ 2.07443752  4.94557429  0.217934   -6.32145485  8.55078354 -0.07894996\n",
      " -3.93932065 -2.69507228 -2.33288192]\n",
      "******************************************************\n",
      "Delta Value: 0.1\n",
      "(13209, 9)\n",
      "Normal Equation\n",
      "[ 2.07443752  4.90507472  0.21802509 -6.00451448  8.19555509 -0.08261641\n",
      " -3.66628339 -2.70676436 -2.34083598]\n",
      "******************************************************\n",
      "Delta Value: 1\n",
      "(13209, 9)\n",
      "Normal Equation\n",
      "[ 2.07443752  4.63509298  0.2191303  -3.90723416  5.82592937 -0.09801421\n",
      " -2.18367869 -2.7763587  -2.38648376]\n",
      "******************************************************\n",
      "Done\n"
     ]
    }
   ],
   "source": [
    "# Parameters \n",
    "delta_value = [1e-20, 1e-18, 1e-14, 1e-7, 1e-3, 0.01, 0.1, 1]\n",
    "\n",
    "theta_normeq_all = []\n",
    "val_loss_nq_all  = []\n",
    "test_loss_nq_all = []\n",
    "\n",
    "for i in delta_value:\n",
    "    print('Delta Value:', i)\n",
    "    \n",
    "    # Calculate theta using normal Eguation \n",
    "    print(X_train.shape)\n",
    "    theta_normeq = normalequation(X_train, y_train, i)\n",
    "    \n",
    "    print('Normal Equation')\n",
    "    print(theta_normeq)\n",
    "    theta_normeq_all.extend(theta_normeq)\n",
    "    \n",
    "    # Compute Validation set loss using normal equation\n",
    "    val_cost_nq = cost_function(X_val, y_val, theta_normeq)\n",
    "    val_loss_nq_all.append(val_cost_nq)\n",
    "    \n",
    "    # Compute test set loss\n",
    "    test_loss_nq = cost_function(X_test, y_test , theta_normeq)\n",
    "    test_loss_nq_all.append(test_loss_nq)\n",
    "    \n",
    "    print('******************************************************')\n",
    "    \n",
    "print('Done')"
   ]
  },
  {
   "cell_type": "markdown",
   "metadata": {},
   "source": [
    "# Plot A: Plot theta w.r.t to delta"
   ]
  },
  {
   "cell_type": "code",
   "execution_count": 8,
   "metadata": {
    "collapsed": true
   },
   "outputs": [],
   "source": [
    "theta_normeq_all = np.array(theta_normeq_all)\n",
    "theta_normeq_all = np.squeeze(theta_normeq_all)"
   ]
  },
  {
   "cell_type": "code",
   "execution_count": 9,
   "metadata": {
    "collapsed": true
   },
   "outputs": [],
   "source": [
    "delta_value = np.array(delta_value)\n",
    "\n",
    "theta1 = []\n",
    "theta2 = []\n",
    "theta3 = []\n",
    "theta4 = []\n",
    "theta5 = []\n",
    "theta6 = []\n",
    "theta7 = []\n",
    "theta8 = []\n",
    "theta9 = []\n",
    "\n",
    "\n",
    "for i in range(0, len(theta_normeq_all), 9):\n",
    "    theta1.append(theta_normeq_all[i])\n",
    "    theta2.append(theta_normeq_all[i+1])\n",
    "    theta3.append(theta_normeq_all[i+2])\n",
    "    theta4.append(theta_normeq_all[i+3])\n",
    "    theta5.append(theta_normeq_all[i+4])\n",
    "    theta6.append(theta_normeq_all[i+5])\n",
    "    theta7.append(theta_normeq_all[i+6])\n",
    "    theta8.append(theta_normeq_all[i+7])\n",
    "    theta9.append(theta_normeq_all[i+8])\n",
    "   "
   ]
  },
  {
   "cell_type": "code",
   "execution_count": 10,
   "metadata": {},
   "outputs": [
    {
     "data": {
      "text/plain": [
       "<matplotlib.legend.Legend at 0xd54aacfef0>"
      ]
     },
     "execution_count": 10,
     "metadata": {},
     "output_type": "execute_result"
    },
    {
     "data": {
      "image/png": "[encoded data removed]",
      "text/plain": [
       "<matplotlib.figure.Figure at 0xd5463b1cf8>"
      ]
     },
     "metadata": {},
     "output_type": "display_data"
    }
   ],
   "source": [
    "x1, = plt.plot(delta_value, theta1, \"b-\", label=\"Theta 1\") \n",
    "x2, = plt.plot(delta_value, theta2, \"g-\", label=\"Theta 2\") \n",
    "x3, = plt.plot(delta_value, theta3, \"r-\", label=\"Theta 3\") \n",
    "x4, = plt.plot(delta_value, theta4, \"c-\", label=\"Theta 4\")\n",
    "x5, = plt.plot(delta_value, theta5, \"m-\", label=\"Theta 5\") \n",
    "x6, = plt.plot(delta_value, theta6, \"y-\", label=\"Theta 6\") \n",
    "x7, = plt.plot(delta_value, theta7, \"k-\", label=\"Theta 7\") \n",
    "x8, = plt.plot(delta_value, theta8, \"k--\", label=\"Theta 8\")\n",
    "x9, = plt.plot(delta_value, theta9, \"b--\", label=\"Theta 9\")\n",
    "\n",
    "plt.title('Theta vs Delta')\n",
    "plt.xlabel('delta')\n",
    "plt.ylabel('Theta')\n",
    "plt.legend(handles=[x1, x2, x3, x4, x5, x6, x7, x8, x9], loc=1)"
   ]
  },
  {
   "cell_type": "markdown",
   "metadata": {},
   "source": [
    "# Plot B : Compute test and train error for different values of Delta."
   ]
  },
  {
   "cell_type": "code",
   "execution_count": 11,
   "metadata": {},
   "outputs": [
    {
     "data": {
      "text/plain": [
       "[<matplotlib.lines.Line2D at 0xd54c463ba8>,\n",
       " <matplotlib.lines.Line2D at 0xd54c463da0>]"
      ]
     },
     "execution_count": 11,
     "metadata": {},
     "output_type": "execute_result"
    },
    {
     "data": {
      "image/png": "[encoded data removed]",
      "text/plain": [
       "<matplotlib.figure.Figure at 0xd54a714ba8>"
      ]
     },
     "metadata": {},
     "output_type": "display_data"
    }
   ],
   "source": [
    "delta_n = len(delta_value)\n",
    "delta_value= np.array(delta_value)\n",
    "\n",
    "val_loss_nq_all = np.array(val_loss_nq_all)\n",
    "val_loss_nq_all = np.reshape(val_loss_nq_all, (delta_n))\n",
    "\n",
    "test_loss_nq_all = np.array(test_loss_nq_all)\n",
    "test_loss_nq_all = np.reshape(test_loss_nq_all, (delta_n))\n",
    "\n",
    "plt.plot(delta_value, val_loss_nq_all, \"r-\", delta_value, test_loss_nq_all, \"b-\")"
   ]
  },
  {
   "cell_type": "code",
   "execution_count": 12,
   "metadata": {},
   "outputs": [
    {
     "name": "stdout",
     "output_type": "stream",
     "text": [
      "Smallest Loss: 0.713290813827\n"
     ]
    }
   ],
   "source": [
    "min_value_index = np.argmin(test_loss_nq_all)\n",
    "print('Smallest Loss:', test_loss_nq_all[min_value_index])"
   ]
  },
  {
   "cell_type": "code",
   "execution_count": 13,
   "metadata": {},
   "outputs": [
    {
     "name": "stdout",
     "output_type": "stream",
     "text": [
      "1.0\n"
     ]
    }
   ],
   "source": [
    "best_delta = delta_value[7]\n",
    "print(best_delta)"
   ]
  },
  {
   "cell_type": "markdown",
   "metadata": {},
   "source": [
    "## Other Models"
   ]
  },
  {
   "cell_type": "code",
   "execution_count": 14,
   "metadata": {
    "collapsed": true
   },
   "outputs": [],
   "source": [
    "from sklearn import linear_model"
   ]
  },
  {
   "cell_type": "code",
   "execution_count": 15,
   "metadata": {
    "collapsed": true
   },
   "outputs": [],
   "source": [
    "def cost_function_other_models(Y_out, Y):\n",
    "    # Compute Cost\n",
    "    Cost = np.sqrt((1/len(X)) * np.sum((Y - Y_out)**2))\n",
    "\n",
    "    return Cost "
   ]
  },
  {
   "cell_type": "code",
   "execution_count": 16,
   "metadata": {
    "collapsed": true
   },
   "outputs": [],
   "source": [
    "reg = linear_model.BayesianRidge()"
   ]
  },
  {
   "cell_type": "code",
   "execution_count": 17,
   "metadata": {},
   "outputs": [
    {
     "data": {
      "text/plain": [
       "BayesianRidge(alpha_1=1e-06, alpha_2=1e-06, compute_score=False, copy_X=True,\n",
       "       fit_intercept=True, lambda_1=1e-06, lambda_2=1e-06, n_iter=300,\n",
       "       normalize=False, tol=0.001, verbose=False)"
      ]
     },
     "execution_count": 17,
     "metadata": {},
     "output_type": "execute_result"
    }
   ],
   "source": [
    "reg.fit(X_train, y_train)"
   ]
  },
  {
   "cell_type": "code",
   "execution_count": 18,
   "metadata": {
    "collapsed": true
   },
   "outputs": [],
   "source": [
    "test_predictions = reg.predict(X_test)"
   ]
  },
  {
   "cell_type": "code",
   "execution_count": 19,
   "metadata": {
    "collapsed": true
   },
   "outputs": [],
   "source": [
    "loss_test_bayReg = cost_function_other_models(test_predictions, y_test)"
   ]
  },
  {
   "cell_type": "code",
   "execution_count": 20,
   "metadata": {},
   "outputs": [
    {
     "name": "stdout",
     "output_type": "stream",
     "text": [
      "0.322598606675\n"
     ]
    }
   ],
   "source": [
    "print(loss_test_bayReg)"
   ]
  },
  {
   "cell_type": "code",
   "execution_count": 21,
   "metadata": {},
   "outputs": [
    {
     "data": {
      "text/plain": [
       "LassoLars(alpha=1, copy_X=True, eps=2.2204460492503131e-16,\n",
       "     fit_intercept=True, fit_path=True, max_iter=500, normalize=True,\n",
       "     positive=False, precompute='auto', verbose=False)"
      ]
     },
     "execution_count": 21,
     "metadata": {},
     "output_type": "execute_result"
    }
   ],
   "source": [
    "lasso_reg = linear_model.LassoLars(alpha=1)\n",
    "lasso_reg.fit(X_train, y_train)"
   ]
  },
  {
   "cell_type": "code",
   "execution_count": 22,
   "metadata": {
    "collapsed": true
   },
   "outputs": [],
   "source": [
    "test_predictions_lasso = lasso_reg.predict(X_test)"
   ]
  },
  {
   "cell_type": "code",
   "execution_count": 23,
   "metadata": {
    "collapsed": true
   },
   "outputs": [],
   "source": [
    "loss_test_LassoReg = cost_function_other_models(test_predictions_lasso, y_test)"
   ]
  },
  {
   "cell_type": "code",
   "execution_count": 24,
   "metadata": {},
   "outputs": [
    {
     "name": "stdout",
     "output_type": "stream",
     "text": [
      "0.514844770942\n"
     ]
    }
   ],
   "source": [
    "print(loss_test_LassoReg)"
   ]
  },
  {
   "cell_type": "code",
   "execution_count": null,
   "metadata": {
    "collapsed": true
   },
   "outputs": [],
   "source": []
  }
 ],
 "metadata": {
  "kernelspec": {
   "display_name": "Python 3",
   "language": "python",
   "name": "python3"
  },
  "language_info": {
   "codemirror_mode": {
    "name": "ipython",
    "version": 3
   },
   "file_extension": ".py",
   "mimetype": "text/x-python",
   "name": "python",
   "nbconvert_exporter": "python",
   "pygments_lexer": "ipython3",
   "version": "3.6.1"
  }
 },
 "nbformat": 4,
 "nbformat_minor": 2
}
